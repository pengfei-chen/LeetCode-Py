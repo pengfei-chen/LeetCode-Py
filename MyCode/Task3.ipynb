{
 "cells": [
  {
   "cell_type": "code",
   "execution_count": null,
   "id": "fd53861b",
   "metadata": {},
   "outputs": [],
   "source": []
  },
  {
   "cell_type": "markdown",
   "id": "211514cf",
   "metadata": {},
   "source": [
    "## Day4"
   ]
  },
  {
   "cell_type": "markdown",
   "id": "0f3143a0",
   "metadata": {},
   "source": [
    "### 剑指 Offer 45. 把数组排成最小的数"
   ]
  },
  {
   "cell_type": "code",
   "execution_count": 4,
   "id": "8a8dd76d",
   "metadata": {},
   "outputs": [
    {
     "name": "stdout",
     "output_type": "stream",
     "text": [
      "ans: [30, 3, 34, 5, 9]\n"
     ]
    },
    {
     "data": {
      "text/plain": [
       "'3033459'"
      ]
     },
     "execution_count": 4,
     "metadata": {},
     "output_type": "execute_result"
    }
   ],
   "source": [
    "# 通过代码\n",
    "class Solution:\n",
    "    def minNumber(self, nums):\n",
    "        # 定义此情景下判断“大小”的方法\n",
    "        def  judge(arr, x, y):\n",
    "            # 330 , 303  x=3,y=30\n",
    "            if str(arr[x]) + str(arr[y]) > str(arr[y]) + str(arr[x]):\n",
    "                return False \n",
    "            return True\n",
    "        \n",
    "        import random \n",
    "        def partition(arr, low, high):\n",
    "            x = arr[high]\n",
    "            i = low - 1  #注意这里\n",
    "            for j in range(low, high):\n",
    "                # if arr[j] <= arr[high]:  #小于随机选取的值，则依次放在arr左边\n",
    "                if judge(arr, j, high):\n",
    "                    i += 1\n",
    "                    arr[i], arr[j] = arr[j], arr[i]\n",
    "            arr[i+1], arr[high] = arr[high], arr[i+1]  # 复原\n",
    "            return i+1 \n",
    "\n",
    "        def  randomPartition(arr, low, high):\n",
    "            i = random.randint(low, high)\n",
    "            arr[i], arr[high] = arr[high], arr[i]  #随机选取值，固定在最后位置\n",
    "            return partition(arr, low, high)  #获取排序好位置的索引\n",
    "\n",
    "        def quickSort(arr, low, high):\n",
    "            if low < high:\n",
    "                pi = randomPartition(arr, low, high)\n",
    "                quickSort(arr, low, pi-1)\n",
    "                quickSort(arr, pi+1, high)\n",
    "            return arr \n",
    "\n",
    "        ans = quickSort(nums, 0, len(nums)-1)\n",
    "        print(\"ans:\", ans)\n",
    "        return ''.join([str(x) for x in ans])\n",
    "\n",
    "a = Solution()\n",
    "nums = [3,30,34,5,9]\n",
    "a.minNumber(nums)"
   ]
  },
  {
   "cell_type": "code",
   "execution_count": null,
   "id": "cd1b5aa5",
   "metadata": {},
   "outputs": [],
   "source": []
  },
  {
   "cell_type": "markdown",
   "id": "17c71534",
   "metadata": {},
   "source": [
    "### 283. 移动零"
   ]
  },
  {
   "cell_type": "code",
   "execution_count": 9,
   "id": "eb3c29b3",
   "metadata": {},
   "outputs": [
    {
     "data": {
      "text/plain": [
       "[1, 3, 12, 0, 0]"
      ]
     },
     "execution_count": 9,
     "metadata": {},
     "output_type": "execute_result"
    }
   ],
   "source": [
    "nums = [0,1,0,3,12]\n",
    "\n",
    "n = len(nums)\n",
    "left = right = 0\n",
    "while right < n:\n",
    "    if nums[right] != 0:\n",
    "        nums[left], nums[right] = nums[right], nums[left]\n",
    "        left += 1\n",
    "    right += 1\n",
    "nums"
   ]
  },
  {
   "cell_type": "code",
   "execution_count": null,
   "id": "01f738a0",
   "metadata": {},
   "outputs": [],
   "source": [
    "# 通过答案\n",
    "class Solution:\n",
    "    def moveZeroes(self, nums: List[int]) -> None:\n",
    "        \"\"\"\n",
    "        Do not return anything, modify nums in-place instead.\n",
    "        \"\"\"\n",
    "        n = len(nums)\n",
    "        left = right = 0\n",
    "        while right < n:\n",
    "            # 右指针左边直到左指针处均为零。\n",
    "            if nums[right] != 0:\n",
    "                nums[left], nums[right] = nums[right], nums[left]\n",
    "                left += 1\n",
    "            right += 1"
   ]
  },
  {
   "cell_type": "code",
   "execution_count": null,
   "id": "fd5b4446",
   "metadata": {},
   "outputs": [],
   "source": []
  },
  {
   "cell_type": "markdown",
   "id": "ba4d581f",
   "metadata": {},
   "source": [
    "### 912. 排序数组"
   ]
  },
  {
   "cell_type": "code",
   "execution_count": null,
   "id": "a670e992",
   "metadata": {},
   "outputs": [],
   "source": [
    "# 通过代码，快排\n",
    "class Solution:\n",
    "    def sortArray(self, nums: List[int]) -> List[int]:\n",
    "        import random \n",
    "        def partition(arr, low, high):\n",
    "            x = arr[high]\n",
    "            i = low - 1\n",
    "            for j in range(low, high):\n",
    "                if arr[j] <= arr[high]:\n",
    "                    i += 1\n",
    "                    arr[i],arr[j] = arr[j], arr[i]\n",
    "            arr[i+1], arr[high] = arr[high], arr[i+1]\n",
    "            return i+1\n",
    "\n",
    "        def randomPartition(arr, low, high):\n",
    "            i = random.randint(low, high) \n",
    "            arr[i], arr[high] = arr[high], arr[i]\n",
    "            return partition(arr, low, high)\n",
    "\n",
    "        def quickSort(arr, low, high):\n",
    "            if low < high:\n",
    "                pi = randomPartition(arr, low, high)\n",
    "                quickSort(arr, low, pi-1)\n",
    "                quickSort(arr, pi+1, high)\n",
    "            return arr  \n",
    "        \n",
    "        ans = quickSort(nums, 0, len(nums)-1 )\n",
    "        return ans"
   ]
  },
  {
   "cell_type": "code",
   "execution_count": null,
   "id": "1427fd64",
   "metadata": {},
   "outputs": [],
   "source": []
  },
  {
   "cell_type": "code",
   "execution_count": null,
   "id": "c889e08a",
   "metadata": {},
   "outputs": [],
   "source": []
  },
  {
   "cell_type": "markdown",
   "id": "e800e9fe",
   "metadata": {},
   "source": [
    "## Day 5"
   ]
  },
  {
   "cell_type": "markdown",
   "id": "78fa8001",
   "metadata": {},
   "source": [
    "### 506. 相对名次"
   ]
  },
  {
   "cell_type": "code",
   "execution_count": null,
   "id": "d3615007",
   "metadata": {},
   "outputs": [],
   "source": [
    "# 通过代码\n",
    "class Solution:\n",
    "    def findRelativeRanks(self, score: List[int]) -> List[str]:\n",
    "        medals = [\"Gold Medal\", \"Silver Medal\", \"Bronze Medal\"]\n",
    "        # 未指定，按照 s 进行排序\n",
    "        rank = sorted([(s, i) for i, s in enumerate(score)], reverse=True)\n",
    "        for idx, tup in enumerate(rank):\n",
    "            if idx in [0, 1, 2]:\n",
    "                score[tup[1]] = medals[idx]\n",
    "            else:\n",
    "                score[tup[1]] = str(idx+1)\n",
    "        return score"
   ]
  },
  {
   "cell_type": "code",
   "execution_count": null,
   "id": "bf797585",
   "metadata": {},
   "outputs": [],
   "source": []
  },
  {
   "cell_type": "markdown",
   "id": "8f8a8e2e",
   "metadata": {},
   "source": [
    "### 面试题 10.01. 合并排序的数组"
   ]
  },
  {
   "cell_type": "code",
   "execution_count": null,
   "id": "4309f9ac",
   "metadata": {},
   "outputs": [],
   "source": [
    "# 通过代码\n",
    "class Solution:\n",
    "    def merge(self, A: List[int], m: int, B: List[int], n: int) -> None:\n",
    "        \"\"\"\n",
    "        Do not return anything, modify A in-place instead.\n",
    "        \"\"\"\n",
    "        def merge(left_arr, right_arr):\n",
    "            arr = []\n",
    "            while left_arr and right_arr:\n",
    "                if left_arr[0] < right_arr[0]:\n",
    "                    arr.append(left_arr.pop(0))\n",
    "                else:\n",
    "                    arr.append(right_arr.pop(0))\n",
    "            while left_arr:\n",
    "                arr.append(left_arr.pop(0))\n",
    "            while right_arr:\n",
    "                arr.append(right_arr.pop(0))\n",
    "            return arr \n",
    "\n",
    "        k = len(B)\n",
    "        if k > 0:\n",
    "            A[:] = A[:-k]\n",
    "        A[:] = merge(A, B)\n",
    "        "
   ]
  },
  {
   "cell_type": "code",
   "execution_count": null,
   "id": "ce228d48",
   "metadata": {},
   "outputs": [],
   "source": [
    "# 参考别人答案\n",
    "class Solution:\n",
    "    def merge(self, A: List[int], m: int, B: List[int], n: int) -> None:\n",
    "        idx1 = m - 1\n",
    "        idx2 = n - 1\n",
    "        cur = m + n - 1 # 添加 cur 指针追踪位置\n",
    "        while idx1 > -1 and idx2 > -1:\n",
    "            # print(A)\n",
    "            if A[idx1] < B[idx2]:\n",
    "                A[cur] = B[idx2]\n",
    "                cur -= 1\n",
    "                idx2 -= 1\n",
    "            else:\n",
    "                A[cur] = A[idx1]\n",
    "                cur -= 1\n",
    "                idx1 -= 1\n",
    "        if idx2 != -1:\n",
    "            A[:idx2 + 1] = B[:idx2 + 1] # 比较完B还有剩下的，全填到A前面即可\n",
    "        return A\n"
   ]
  },
  {
   "cell_type": "code",
   "execution_count": null,
   "id": "d8813bf6",
   "metadata": {},
   "outputs": [],
   "source": []
  },
  {
   "cell_type": "markdown",
   "id": "81993917",
   "metadata": {},
   "source": [
    "### 剑指 Offer 51. 数组中的逆序对"
   ]
  },
  {
   "cell_type": "markdown",
   "id": "2f0de285",
   "metadata": {},
   "source": [
    "**好题目，值得多看几次。**"
   ]
  },
  {
   "cell_type": "code",
   "execution_count": null,
   "id": "96d244d9",
   "metadata": {},
   "outputs": [],
   "source": [
    "# 通过的答案\n",
    "class Solution:\n",
    "    def mergeSort(self, nums, tmp, l, r):\n",
    "        if l >= r:\n",
    "            return 0 \n",
    "        mid = (l + r) // 2\n",
    "        inv_count = self.mergeSort(nums, tmp, l, mid ) + self.mergeSort(nums, tmp, mid+1, r) \n",
    "        i, j, pos = l, mid+1, l \n",
    "        while i <= mid and j<=r:\n",
    "            if nums[i] <= nums[j]:\n",
    "                tmp[pos] = nums[i]\n",
    "                i += 1\n",
    "                inv_count += (j - (mid+1) )  # j 不移动，则为 + 0  # 这里要理解清楚\n",
    "            else: # nums[i] > nums[j], 则大于 mid+1 到 j 之间的所有元素\n",
    "                tmp[pos] = nums[j]\n",
    "                j += 1\n",
    "            pos += 1\n",
    "        for k in range(i, mid+1): #左边剩下的\n",
    "            tmp[pos] = nums[k]\n",
    "            inv_count += ( j - (mid+1) )\n",
    "            pos += 1\n",
    "        for k in range(j, r+1): #右边剩下的\n",
    "            tmp[pos] = nums[k]\n",
    "            pos += 1\n",
    "        # 更新 nums \n",
    "        nums[l:r+1] = tmp[l:r+1]\n",
    "        return inv_count\n",
    "\n",
    "    def reversePairs(self, nums: List[int]) -> int:\n",
    "        n = len(nums)\n",
    "        tmp = [0] * n \n",
    "        return self.mergeSort(nums, tmp, 0, n-1)"
   ]
  },
  {
   "cell_type": "code",
   "execution_count": null,
   "id": "97fdb80f",
   "metadata": {},
   "outputs": [],
   "source": []
  },
  {
   "cell_type": "code",
   "execution_count": null,
   "id": "80f16977",
   "metadata": {},
   "outputs": [],
   "source": []
  },
  {
   "cell_type": "markdown",
   "id": "44251f0d",
   "metadata": {},
   "source": [
    "## Day6"
   ]
  },
  {
   "cell_type": "code",
   "execution_count": null,
   "id": "4d8211d0",
   "metadata": {},
   "outputs": [],
   "source": []
  }
 ],
 "metadata": {
  "kernelspec": {
   "display_name": "Python 3",
   "language": "python",
   "name": "python3"
  },
  "language_info": {
   "codemirror_mode": {
    "name": "ipython",
    "version": 3
   },
   "file_extension": ".py",
   "mimetype": "text/x-python",
   "name": "python",
   "nbconvert_exporter": "python",
   "pygments_lexer": "ipython3",
   "version": "3.8.3"
  }
 },
 "nbformat": 4,
 "nbformat_minor": 5
}
