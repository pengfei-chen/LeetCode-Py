{
 "cells": [
  {
   "cell_type": "code",
   "execution_count": null,
   "id": "fd53861b",
   "metadata": {},
   "outputs": [],
   "source": []
  },
  {
   "cell_type": "markdown",
   "id": "211514cf",
   "metadata": {},
   "source": [
    "## Day4"
   ]
  },
  {
   "cell_type": "markdown",
   "id": "0f3143a0",
   "metadata": {},
   "source": [
    "### 剑指 Offer 45. 把数组排成最小的数"
   ]
  },
  {
   "cell_type": "code",
   "execution_count": 4,
   "id": "8a8dd76d",
   "metadata": {},
   "outputs": [
    {
     "name": "stdout",
     "output_type": "stream",
     "text": [
      "ans: [30, 3, 34, 5, 9]\n"
     ]
    },
    {
     "data": {
      "text/plain": [
       "'3033459'"
      ]
     },
     "execution_count": 4,
     "metadata": {},
     "output_type": "execute_result"
    }
   ],
   "source": [
    "# 通过代码\n",
    "class Solution:\n",
    "    def minNumber(self, nums):\n",
    "        # 定义此情景下判断“大小”的方法\n",
    "        def  judge(arr, x, y):\n",
    "            # 330 , 303  x=3,y=30\n",
    "            if str(arr[x]) + str(arr[y]) > str(arr[y]) + str(arr[x]):\n",
    "                return False \n",
    "            return True\n",
    "        \n",
    "        import random \n",
    "        def partition(arr, low, high):\n",
    "            x = arr[high]\n",
    "            i = low - 1  #注意这里\n",
    "            for j in range(low, high):\n",
    "                # if arr[j] <= arr[high]:  #小于随机选取的值，则依次放在arr左边\n",
    "                if judge(arr, j, high):\n",
    "                    i += 1\n",
    "                    arr[i], arr[j] = arr[j], arr[i]\n",
    "            arr[i+1], arr[high] = arr[high], arr[i+1]  # 复原\n",
    "            return i+1 \n",
    "\n",
    "        def  randomPartition(arr, low, high):\n",
    "            i = random.randint(low, high)\n",
    "            arr[i], arr[high] = arr[high], arr[i]  #随机选取值，固定在最后位置\n",
    "            return partition(arr, low, high)  #获取排序好位置的索引\n",
    "\n",
    "        def quickSort(arr, low, high):\n",
    "            if low < high:\n",
    "                pi = randomPartition(arr, low, high)\n",
    "                quickSort(arr, low, pi-1)\n",
    "                quickSort(arr, pi+1, high)\n",
    "            return arr \n",
    "\n",
    "        ans = quickSort(nums, 0, len(nums)-1)\n",
    "        print(\"ans:\", ans)\n",
    "        return ''.join([str(x) for x in ans])\n",
    "\n",
    "a = Solution()\n",
    "nums = [3,30,34,5,9]\n",
    "a.minNumber(nums)"
   ]
  },
  {
   "cell_type": "code",
   "execution_count": null,
   "id": "cd1b5aa5",
   "metadata": {},
   "outputs": [],
   "source": []
  },
  {
   "cell_type": "markdown",
   "id": "17c71534",
   "metadata": {},
   "source": [
    "### 283. 移动零"
   ]
  },
  {
   "cell_type": "code",
   "execution_count": 9,
   "id": "eb3c29b3",
   "metadata": {},
   "outputs": [
    {
     "data": {
      "text/plain": [
       "[1, 3, 12, 0, 0]"
      ]
     },
     "execution_count": 9,
     "metadata": {},
     "output_type": "execute_result"
    }
   ],
   "source": [
    "nums = [0,1,0,3,12]\n",
    "\n",
    "n = len(nums)\n",
    "left = right = 0\n",
    "while right < n:\n",
    "    if nums[right] != 0:\n",
    "        nums[left], nums[right] = nums[right], nums[left]\n",
    "        left += 1\n",
    "    right += 1\n",
    "nums"
   ]
  },
  {
   "cell_type": "code",
   "execution_count": null,
   "id": "01f738a0",
   "metadata": {},
   "outputs": [],
   "source": [
    "# 通过答案\n",
    "class Solution:\n",
    "    def moveZeroes(self, nums: List[int]) -> None:\n",
    "        \"\"\"\n",
    "        Do not return anything, modify nums in-place instead.\n",
    "        \"\"\"\n",
    "        n = len(nums)\n",
    "        left = right = 0\n",
    "        while right < n:\n",
    "            # 右指针左边直到左指针处均为零。\n",
    "            if nums[right] != 0:\n",
    "                nums[left], nums[right] = nums[right], nums[left]\n",
    "                left += 1\n",
    "            right += 1"
   ]
  },
  {
   "cell_type": "code",
   "execution_count": null,
   "id": "fd5b4446",
   "metadata": {},
   "outputs": [],
   "source": []
  },
  {
   "cell_type": "markdown",
   "id": "ba4d581f",
   "metadata": {},
   "source": [
    "### 912. 排序数组"
   ]
  },
  {
   "cell_type": "code",
   "execution_count": null,
   "id": "a670e992",
   "metadata": {},
   "outputs": [],
   "source": [
    "# 通过代码，快排\n",
    "class Solution:\n",
    "    def sortArray(self, nums: List[int]) -> List[int]:\n",
    "        import random \n",
    "        def partition(arr, low, high):\n",
    "            x = arr[high]\n",
    "            i = low - 1\n",
    "            for j in range(low, high):\n",
    "                if arr[j] <= arr[high]:\n",
    "                    i += 1\n",
    "                    arr[i],arr[j] = arr[j], arr[i]\n",
    "            arr[i+1], arr[high] = arr[high], arr[i+1]\n",
    "            return i+1\n",
    "\n",
    "        def randomPartition(arr, low, high):\n",
    "            i = random.randint(low, high) \n",
    "            arr[i], arr[high] = arr[high], arr[i]\n",
    "            return partition(arr, low, high)\n",
    "\n",
    "        def quickSort(arr, low, high):\n",
    "            if low < high:\n",
    "                pi = randomPartition(arr, low, high)\n",
    "                quickSort(arr, low, pi-1)\n",
    "                quickSort(arr, pi+1, high)\n",
    "            return arr  \n",
    "        \n",
    "        ans = quickSort(nums, 0, len(nums)-1 )\n",
    "        return ans"
   ]
  },
  {
   "cell_type": "code",
   "execution_count": null,
   "id": "1427fd64",
   "metadata": {},
   "outputs": [],
   "source": []
  },
  {
   "cell_type": "code",
   "execution_count": null,
   "id": "c889e08a",
   "metadata": {},
   "outputs": [],
   "source": []
  },
  {
   "cell_type": "markdown",
   "id": "e800e9fe",
   "metadata": {},
   "source": [
    "## Day 5"
   ]
  },
  {
   "cell_type": "markdown",
   "id": "78fa8001",
   "metadata": {},
   "source": [
    "### 506. 相对名次"
   ]
  },
  {
   "cell_type": "code",
   "execution_count": null,
   "id": "d3615007",
   "metadata": {},
   "outputs": [],
   "source": [
    "# 通过代码\n",
    "class Solution:\n",
    "    def findRelativeRanks(self, score: List[int]) -> List[str]:\n",
    "        medals = [\"Gold Medal\", \"Silver Medal\", \"Bronze Medal\"]\n",
    "        # 未指定，按照 s 进行排序\n",
    "        rank = sorted([(s, i) for i, s in enumerate(score)], reverse=True)\n",
    "        for idx, tup in enumerate(rank):\n",
    "            if idx in [0, 1, 2]:\n",
    "                score[tup[1]] = medals[idx]\n",
    "            else:\n",
    "                score[tup[1]] = str(idx+1)\n",
    "        return score"
   ]
  },
  {
   "cell_type": "code",
   "execution_count": null,
   "id": "bf797585",
   "metadata": {},
   "outputs": [],
   "source": []
  },
  {
   "cell_type": "markdown",
   "id": "8f8a8e2e",
   "metadata": {},
   "source": [
    "### 面试题 10.01. 合并排序的数组"
   ]
  },
  {
   "cell_type": "code",
   "execution_count": null,
   "id": "4309f9ac",
   "metadata": {},
   "outputs": [],
   "source": [
    "# 通过代码\n",
    "class Solution:\n",
    "    def merge(self, A: List[int], m: int, B: List[int], n: int) -> None:\n",
    "        \"\"\"\n",
    "        Do not return anything, modify A in-place instead.\n",
    "        \"\"\"\n",
    "        def merge(left_arr, right_arr):\n",
    "            arr = []\n",
    "            while left_arr and right_arr:\n",
    "                if left_arr[0] < right_arr[0]:\n",
    "                    arr.append(left_arr.pop(0))\n",
    "                else:\n",
    "                    arr.append(right_arr.pop(0))\n",
    "            while left_arr:\n",
    "                arr.append(left_arr.pop(0))\n",
    "            while right_arr:\n",
    "                arr.append(right_arr.pop(0))\n",
    "            return arr \n",
    "\n",
    "        k = len(B)\n",
    "        if k > 0:\n",
    "            A[:] = A[:-k]\n",
    "        A[:] = merge(A, B)\n",
    "        "
   ]
  },
  {
   "cell_type": "code",
   "execution_count": null,
   "id": "ce228d48",
   "metadata": {},
   "outputs": [],
   "source": [
    "# 参考别人答案\n",
    "class Solution:\n",
    "    def merge(self, A: List[int], m: int, B: List[int], n: int) -> None:\n",
    "        idx1 = m - 1\n",
    "        idx2 = n - 1\n",
    "        cur = m + n - 1 # 添加 cur 指针追踪位置\n",
    "        while idx1 > -1 and idx2 > -1:\n",
    "            # print(A)\n",
    "            if A[idx1] < B[idx2]:\n",
    "                A[cur] = B[idx2]\n",
    "                cur -= 1\n",
    "                idx2 -= 1\n",
    "            else:\n",
    "                A[cur] = A[idx1]\n",
    "                cur -= 1\n",
    "                idx1 -= 1\n",
    "        if idx2 != -1:\n",
    "            A[:idx2 + 1] = B[:idx2 + 1] # 比较完B还有剩下的，全填到A前面即可\n",
    "        return A\n"
   ]
  },
  {
   "cell_type": "code",
   "execution_count": null,
   "id": "d8813bf6",
   "metadata": {},
   "outputs": [],
   "source": []
  },
  {
   "cell_type": "markdown",
   "id": "81993917",
   "metadata": {},
   "source": [
    "### 剑指 Offer 51. 数组中的逆序对"
   ]
  },
  {
   "cell_type": "markdown",
   "id": "2f0de285",
   "metadata": {},
   "source": [
    "**好题目，值得多看几次。**"
   ]
  },
  {
   "cell_type": "code",
   "execution_count": null,
   "id": "96d244d9",
   "metadata": {},
   "outputs": [],
   "source": [
    "# 通过的答案\n",
    "class Solution:\n",
    "    def mergeSort(self, nums, tmp, l, r):\n",
    "        if l >= r:\n",
    "            return 0 \n",
    "        mid = (l + r) // 2\n",
    "        inv_count = self.mergeSort(nums, tmp, l, mid ) + self.mergeSort(nums, tmp, mid+1, r) \n",
    "        i, j, pos = l, mid+1, l \n",
    "        while i <= mid and j<=r:\n",
    "            if nums[i] <= nums[j]:\n",
    "                tmp[pos] = nums[i]\n",
    "                i += 1\n",
    "                inv_count += (j - (mid+1) )  # j 不移动，则为 + 0  # 这里要理解清楚\n",
    "            else: # nums[i] > nums[j], 则大于 mid+1 到 j 之间的所有元素\n",
    "                tmp[pos] = nums[j]\n",
    "                j += 1\n",
    "            pos += 1\n",
    "        for k in range(i, mid+1): #左边剩下的\n",
    "            tmp[pos] = nums[k]\n",
    "            inv_count += ( j - (mid+1) )\n",
    "            pos += 1\n",
    "        for k in range(j, r+1): #右边剩下的\n",
    "            tmp[pos] = nums[k]\n",
    "            pos += 1\n",
    "        # 更新 nums \n",
    "        nums[l:r+1] = tmp[l:r+1]\n",
    "        return inv_count\n",
    "\n",
    "    def reversePairs(self, nums: List[int]) -> int:\n",
    "        n = len(nums)\n",
    "        tmp = [0] * n \n",
    "        return self.mergeSort(nums, tmp, 0, n-1)"
   ]
  },
  {
   "cell_type": "code",
   "execution_count": null,
   "id": "97fdb80f",
   "metadata": {},
   "outputs": [],
   "source": []
  },
  {
   "cell_type": "code",
   "execution_count": null,
   "id": "80f16977",
   "metadata": {},
   "outputs": [],
   "source": []
  },
  {
   "cell_type": "markdown",
   "id": "44251f0d",
   "metadata": {},
   "source": [
    "## Day6"
   ]
  },
  {
   "cell_type": "markdown",
   "id": "c01b0e7d",
   "metadata": {},
   "source": [
    "### 75. 颜色分类"
   ]
  },
  {
   "cell_type": "code",
   "execution_count": null,
   "id": "a96c6cc2",
   "metadata": {},
   "outputs": [],
   "source": [
    "# 牛皮的思路\n",
    "\n",
    "\"\"\"\n",
    "重点在设计循环不变量\n",
    "\n",
    "写代码的时候需要注意到设置的变量以及区间的定义，也就是 循环不变量。\n",
    "循环不变量 简单说就是在循环的过程中保持不变的性质，这个性质是人为根据需要解决的任务定义的。\n",
    "对 循环不变量 的简单认识：\n",
    "\n",
    "变量的值是变化的，但是保持不变的性质，就是循环不变量；\n",
    "这里的「量」是一些人为定义的、可以判断真假的语句，在循环开始前、循环的过程中、循环结束以后，都为真；\n",
    "这里的「循环」是广义上的，并不一定指「循环」，也有可能是在「递归」的过程中。\n",
    "\"\"\"\n",
    "\n",
    "class Solution:\n",
    "    def sortColors(self, nums: List[int]) -> None:\n",
    "        \"\"\"\n",
    "        Do not return anything, modify nums in-place instead.\n",
    "        \"\"\"\n",
    "\n",
    "        # all in [0, zero) = 0\n",
    "        # all in [zero, i) = 1\n",
    "        # all in [two, len - 1] = 2\n",
    "\n",
    "        def swap(nums, index1, index2):\n",
    "            nums[index1], nums[index2] = nums[index2], nums[index1]\n",
    "\n",
    "        size = len(nums)\n",
    "        if size < 2:\n",
    "            return\n",
    "\n",
    "        zero = 0  #这个要增加\n",
    "        two = size  #这个要减少\n",
    "\n",
    "        i = 0 #这个要增加\n",
    "\n",
    "        while i < two:\n",
    "            if nums[i] == 0:\n",
    "                swap(nums, i, zero)\n",
    "                i += 1\n",
    "                zero += 1\n",
    "            elif nums[i] == 1:\n",
    "                i += 1\n",
    "            else:\n",
    "                two -= 1\n",
    "                swap(nums, i, two)\n"
   ]
  },
  {
   "cell_type": "code",
   "execution_count": null,
   "id": "6f9987db",
   "metadata": {},
   "outputs": [],
   "source": []
  },
  {
   "cell_type": "markdown",
   "id": "0fc3c682",
   "metadata": {},
   "source": [
    "### 215. 数组中的第K个最大元素"
   ]
  },
  {
   "cell_type": "code",
   "execution_count": null,
   "id": "a7cdbcc5",
   "metadata": {},
   "outputs": [],
   "source": [
    "# 通过的代码\n",
    "class Solution:\n",
    "    def findKthLargest(self, nums: List[int], k: int) -> int:\n",
    "\n",
    "        # 调整为大顶堆\n",
    "        def heapify(arr, index, end):\n",
    "            left = index * 2 + 1\n",
    "            right = left + 1\n",
    "            while left <= end:\n",
    "                # 当前节点为非叶子节点\n",
    "                max_index = index \n",
    "                if arr[left] > arr[max_index]:\n",
    "                    max_index = left \n",
    "                if right <= end and arr[right] > arr[max_index]:\n",
    "                    max_index = right \n",
    "                if index == max_index:\n",
    "                    #如果不用交换，则说明已经交换结束了\n",
    "                    break \n",
    "                arr[index], arr[max_index] = arr[max_index],arr[index]\n",
    "                # 继续调整子树 \n",
    "                index = max_index \n",
    "                left = index * 2 + 1\n",
    "                right = left + 1\n",
    "\n",
    "        def buildMaxHeap(arr):\n",
    "            size = len(arr)\n",
    "            # (size - 2) // 2 是最后一个非叶节点， 叶节点不用调整 \n",
    "            # 巧妙的想法\n",
    "            for i in range((size-2)//2, -1, -1):\n",
    "                heapify(arr, i, size-1)\n",
    "            return arr\n",
    "\n",
    "        def pickKLargest(arr, k):\n",
    "            buildMaxHeap(arr)\n",
    "            size = len(arr)\n",
    "            for i in range(size):\n",
    "                if i+1 == k:\n",
    "                    return arr[0]\n",
    "                arr[0], arr[size-i-1] = arr[size-i-1], arr[0]\n",
    "                heapify(arr, 0, size-i-2)\n",
    "\n",
    "        return pickKLargest(nums, k)"
   ]
  },
  {
   "cell_type": "code",
   "execution_count": null,
   "id": "88768d81",
   "metadata": {},
   "outputs": [],
   "source": []
  },
  {
   "cell_type": "code",
   "execution_count": 1,
   "id": "13cdb823",
   "metadata": {},
   "outputs": [],
   "source": [
    "from collections import deque"
   ]
  },
  {
   "cell_type": "code",
   "execution_count": 2,
   "id": "e617df48",
   "metadata": {},
   "outputs": [
    {
     "data": {
      "text/plain": [
       "deque([1, 2, 3])"
      ]
     },
     "execution_count": 2,
     "metadata": {},
     "output_type": "execute_result"
    }
   ],
   "source": [
    "a = [1,2,3]\n",
    "b = deque(a)\n",
    "b"
   ]
  },
  {
   "cell_type": "code",
   "execution_count": 4,
   "id": "6072d240",
   "metadata": {},
   "outputs": [
    {
     "data": {
      "text/plain": [
       "1"
      ]
     },
     "execution_count": 4,
     "metadata": {},
     "output_type": "execute_result"
    }
   ],
   "source": [
    "b.popleft()"
   ]
  },
  {
   "cell_type": "code",
   "execution_count": 5,
   "id": "022d7434",
   "metadata": {},
   "outputs": [
    {
     "data": {
      "text/plain": [
       "deque([2, 3])"
      ]
     },
     "execution_count": 5,
     "metadata": {},
     "output_type": "execute_result"
    }
   ],
   "source": [
    "b"
   ]
  },
  {
   "cell_type": "code",
   "execution_count": 6,
   "id": "5990c8a7",
   "metadata": {},
   "outputs": [],
   "source": [
    "b.appendleft(5)"
   ]
  },
  {
   "cell_type": "code",
   "execution_count": 8,
   "id": "684eb3b2",
   "metadata": {},
   "outputs": [],
   "source": [
    "arr = [3,2,1]\n",
    "k = 2"
   ]
  },
  {
   "cell_type": "code",
   "execution_count": 14,
   "id": "d1756236",
   "metadata": {},
   "outputs": [
    {
     "name": "stdout",
     "output_type": "stream",
     "text": [
      "2 1\n"
     ]
    }
   ],
   "source": [
    "def heapify(arr, index, end):\n",
    "    left = index * 2 + 1\n",
    "    right = left + 1\n",
    "    while left <= end:\n",
    "        # 当前节点为非叶子节点\n",
    "        max_index = index \n",
    "        if arr[left] > arr[max_index]:\n",
    "            max_index = left \n",
    "        if right <= end and arr[right] > arr[max_index]:\n",
    "            max_index = right \n",
    "        if index == max_index:\n",
    "            #如果不用交换，则说明已经交换结束了\n",
    "            break \n",
    "        arr[index], arr[max_index] = arr[max_index],arr[index]\n",
    "        # 继续调整子树 \n",
    "        index = max_index \n",
    "        left = index * 2 + 1\n",
    "        right = left + 1\n",
    "\n",
    "# 初始化大顶堆\n",
    "def buildMaxHeap(arr):\n",
    "    size = len(arr)\n",
    "    # (size - 2) // 2 是最后一个非叶节点， 叶节点不用调整 \n",
    "    # 巧妙的想法\n",
    "    for i in range((size-2)//2, -1, -1):\n",
    "        heapify(arr, i, size-1)\n",
    "    return arr \n",
    "\n",
    "if k < 1:\n",
    "    print ([])\n",
    "lst = deque( arr[:k] )\n",
    "buildMaxHeap(lst)\n",
    "for i in range(k, len(arr)):\n",
    "    if arr[i] < lst[0]:\n",
    "        lst.popleft()\n",
    "        lst.appendleft(arr[i])  #放在首位，然后 heapify\n",
    "        heapify(lst, 0, len(lst)-1 )\n",
    "        \n",
    "print(*lst)"
   ]
  },
  {
   "cell_type": "code",
   "execution_count": 11,
   "id": "88dba554",
   "metadata": {},
   "outputs": [
    {
     "data": {
      "text/plain": [
       "deque([2, 1])"
      ]
     },
     "execution_count": 11,
     "metadata": {},
     "output_type": "execute_result"
    }
   ],
   "source": [
    "deque"
   ]
  },
  {
   "cell_type": "code",
   "execution_count": null,
   "id": "d7eb0417",
   "metadata": {},
   "outputs": [],
   "source": [
    "# 通过代码\n",
    "\n",
    "from collections import deque\n",
    "\n",
    "class Solution:\n",
    "    def getLeastNumbers(self, arr: List[int], k: int) -> List[int]:\n",
    "\n",
    "        # 调整为大顶堆\n",
    "        def heapify(arr, index, end):\n",
    "            left = index * 2 + 1\n",
    "            right = left + 1\n",
    "            while left <= end:\n",
    "                # 当前节点为非叶子节点\n",
    "                max_index = index \n",
    "                if arr[left] > arr[max_index]:\n",
    "                    max_index = left \n",
    "                if right <= end and arr[right] > arr[max_index]:\n",
    "                    max_index = right \n",
    "                if index == max_index:\n",
    "                    #如果不用交换，则说明已经交换结束了\n",
    "                    break \n",
    "                arr[index], arr[max_index] = arr[max_index],arr[index]\n",
    "                # 继续调整子树 \n",
    "                index = max_index \n",
    "                left = index * 2 + 1\n",
    "                right = left + 1\n",
    "\n",
    "        # 初始化大顶堆\n",
    "        def buildMaxHeap(arr):\n",
    "            size = len(arr)\n",
    "            # (size - 2) // 2 是最后一个非叶节点， 叶节点不用调整 \n",
    "            # 巧妙的想法\n",
    "            for i in range((size-2)//2, -1, -1):\n",
    "                heapify(arr, i, size-1)\n",
    "            return arr \n",
    "        \n",
    "        if k < 1:\n",
    "            return []\n",
    "        lst = deque( arr[:k] )\n",
    "        buildMaxHeap(lst)\n",
    "        for i in range(k, len(arr)):\n",
    "            if arr[i] < lst[0]:\n",
    "                lst.popleft()\n",
    "                lst.appendleft(arr[i])  #放在首位，然后 heapify\n",
    "                heapify(lst, 0, len(lst)-1 )\n",
    "\n",
    "        return list(lst)  # z这里要转一步，不然 deque 识别不了\n",
    "\n",
    "        "
   ]
  },
  {
   "cell_type": "code",
   "execution_count": null,
   "id": "f0ca8b7d",
   "metadata": {},
   "outputs": [],
   "source": []
  },
  {
   "cell_type": "markdown",
   "id": "775b08b7",
   "metadata": {},
   "source": [
    "### 计数牌序"
   ]
  },
  {
   "cell_type": "markdown",
   "id": "311ef5db",
   "metadata": {},
   "source": [
    "这个不好好看，还有点理解不了。。"
   ]
  },
  {
   "cell_type": "code",
   "execution_count": 15,
   "id": "d205bd17",
   "metadata": {},
   "outputs": [],
   "source": [
    "def countingSort(arr):\n",
    "    arr_min, arr_max = min(arr), max(arr)\n",
    "    size = arr_max - arr_min + 1\n",
    "    counts = [0 for _ in range(size)]\n",
    "\n",
    "    for num in arr:\n",
    "        counts[num-arr_min] += 1\n",
    "    # 对所有的计数累加\n",
    "    for j in range(1,size):\n",
    "        counts[j] += counts[j-1]\n",
    "\n",
    "    res = [0 for _ in range(len(arr))]\n",
    "    for i in range(len(arr)-1, -1, -1):\n",
    "        # counts[arr[i] - arr_min] - 1  指定了 arr[i] 在新 res 中的位置\n",
    "        res[ counts[arr[i] - arr_min] - 1 ] = arr[i]\n",
    "        counts[ arr[i] -arr_min ] -= 1\n",
    "\n",
    "    return res "
   ]
  },
  {
   "cell_type": "code",
   "execution_count": 16,
   "id": "cc0b94ac",
   "metadata": {},
   "outputs": [
    {
     "data": {
      "text/plain": [
       "[1, 1, 1, 1, 2, 2, 3, 3, 3, 3, 5, 5, 5, 5]"
      ]
     },
     "execution_count": 16,
     "metadata": {},
     "output_type": "execute_result"
    }
   ],
   "source": [
    "arr = [2,2,3,3,3,3,1,1,1,1,5,5,5,5]\n",
    "countingSort(arr)"
   ]
  },
  {
   "cell_type": "code",
   "execution_count": null,
   "id": "4645071d",
   "metadata": {},
   "outputs": [],
   "source": []
  },
  {
   "cell_type": "markdown",
   "id": "884f95f5",
   "metadata": {},
   "source": [
    "#### 桶排序"
   ]
  },
  {
   "cell_type": "code",
   "execution_count": 21,
   "id": "7d7aed42",
   "metadata": {},
   "outputs": [],
   "source": [
    "def insertionSort(arr):\n",
    "    for i in range(1, len(arr)):\n",
    "        temp = arr[i]\n",
    "        j = i\n",
    "        while j > 0 and arr[j - 1] > temp:\n",
    "            arr[j] = arr[j - 1]\n",
    "            j -= 1\n",
    "        arr[j] = temp\n",
    "        \n",
    "    return arr\n",
    "    \n",
    "def bucketSort(arr, bucket_size = 5):\n",
    "    arr_min, arr_max = min(arr), max(arr)\n",
    "    bucket_count = (arr_max - arr_min) // bucket_size + 1\n",
    "    buckets = [[] for _ in range(bucket_count)]\n",
    "    \n",
    "    for num in arr:\n",
    "        buckets[(num - arr_min) // bucket_size].append(num)\n",
    "        \n",
    "    res = []\n",
    "    for bucket in buckets:\n",
    "        insertionSort(bucket)\n",
    "        res.extend(bucket)\n",
    "    \n",
    "    return res  "
   ]
  },
  {
   "cell_type": "code",
   "execution_count": 22,
   "id": "d2091a73",
   "metadata": {},
   "outputs": [
    {
     "data": {
      "text/plain": [
       "[1, 1, 1, 1, 2, 2, 3, 3, 3, 3, 5, 5, 5, 5]"
      ]
     },
     "execution_count": 22,
     "metadata": {},
     "output_type": "execute_result"
    }
   ],
   "source": [
    "arr = [2,2,3,3,3,3,1,1,1,1,5,5,5,5]\n",
    "bucketSort(arr)"
   ]
  },
  {
   "cell_type": "markdown",
   "id": "3f6cd905",
   "metadata": {},
   "source": [
    "#### 基数排序"
   ]
  },
  {
   "cell_type": "code",
   "execution_count": 26,
   "id": "ea60acfd",
   "metadata": {},
   "outputs": [],
   "source": [
    "def radixSort(arr):\n",
    "    size = len(str(max(arr)))\n",
    "    buckets = [[] for _ in range(10)]\n",
    "    \n",
    "    for i in range(size):\n",
    "        buckets = [[] for _ in range(10)]\n",
    "        for num in arr:\n",
    "            buckets[num // (10**i) % 10].append(num)\n",
    "        arr.clear()\n",
    "        for bucket in buckets:\n",
    "            for num in bucket:\n",
    "                arr.append(num)\n",
    "            \n",
    "    return arr"
   ]
  },
  {
   "cell_type": "code",
   "execution_count": 27,
   "id": "2d37e01d",
   "metadata": {},
   "outputs": [
    {
     "data": {
      "text/plain": [
       "[1, 1, 1, 1, 2, 2, 3, 3, 3, 3, 5, 5, 5, 5]"
      ]
     },
     "execution_count": 27,
     "metadata": {},
     "output_type": "execute_result"
    }
   ],
   "source": [
    "arr = [2,2,3,3,3,3,1,1,1,1,5,5,5,5]\n",
    "radixSort(arr)"
   ]
  },
  {
   "cell_type": "code",
   "execution_count": null,
   "id": "b185f4fa",
   "metadata": {},
   "outputs": [],
   "source": []
  },
  {
   "cell_type": "markdown",
   "id": "c1eb7a46",
   "metadata": {},
   "source": [
    "## Day7"
   ]
  },
  {
   "cell_type": "markdown",
   "id": "2ceaa032",
   "metadata": {},
   "source": [
    "### 1122. 数组的相对排序"
   ]
  },
  {
   "cell_type": "code",
   "execution_count": null,
   "id": "afed0c6c",
   "metadata": {},
   "outputs": [],
   "source": [
    "# 简单粗暴的解法\n",
    "class Solution:\n",
    "    def relativeSortArray(self, arr1: List[int], arr2: List[int]) -> List[int]:\n",
    "        res = []\n",
    "        for i in arr2:\n",
    "            while i in arr1:\n",
    "                res.append(i)\n",
    "                arr1.remove(i) \n",
    "        return res + sorted(arr1)"
   ]
  },
  {
   "cell_type": "code",
   "execution_count": null,
   "id": "df5584d4",
   "metadata": {},
   "outputs": [],
   "source": [
    "# 完整记录版 计数排序\n",
    "class Solution:\n",
    "    def relativeSortArray(self, arr1: List[int], arr2: List[int]) -> List[int]:\n",
    "        arr = [0 for _ in range(1001)]  # 由于题目说 arr1 的范围在 0-1000，所以生成一个 1001 大小的数组用来存放每个数出现的次数。\n",
    "        ans = []  # 储存答案的数组。\n",
    "        for i in range(len(arr1)):  # 遍历 arr1，把整个arr1的数的出现次数储存在 arr 上，arr 的下标对应 arr1 的值，arr 的值对应 arr1 中值出现的次数。\n",
    "            arr[arr1[i]] += 1  # 如果遇到了这个数，就把和它值一样的下标位置上 +1，表示这个数在这个下标 i 上出现了 1 次。\n",
    "        for i in range(len(arr2)):  # 遍历 arr2，现在开始要输出答案了。\n",
    "            while arr[arr2[i]] > 0:  # 如果 arr2 的值在 arr 所对应的下标位置出现次数大于 0，那么就说明 arr 中的这个位置存在值。\n",
    "                ans.append(arr2[i])  # 如果存在值，那就把它加到 ans 中，因为要按 arr2 的顺序排序。\n",
    "                arr[arr2[i]] -= 1  # 加进去了次数 -1 ，不然就死循环了。\n",
    "        for i in range(len(arr)):  # 如果 arr1 的值不在 arr2 中，那么不能就这么结束了，因为题目说了如果不在，剩下的值按照升序排序。\n",
    "            while arr[i] > 0:  # 同样也是找到大于 0 的下标，然后一直加到 ans 中，直到次数为 0。\n",
    "                ans.append(i)\n",
    "                arr[i] -= 1\n",
    "        return ans  # 返回最终答案。\n"
   ]
  },
  {
   "cell_type": "code",
   "execution_count": null,
   "id": "559d0395",
   "metadata": {},
   "outputs": [],
   "source": [
    "# 简化版本计数排序\n",
    "class Solution:\n",
    "    def relativeSortArray(self, arr1: List[int], arr2: List[int]) -> List[int]:\n",
    "        bins = [0 for _ in range(1001)]\n",
    "        res = []\n",
    "        for i in arr1:\n",
    "            bins[i] += 1\n",
    "        for i in arr2:\n",
    "            res += [i] * bins[i]\n",
    "            bins[i] = 0\n",
    "        for i in range(len(bins)):\n",
    "            res += [i] * bins[i]\n",
    "        \n",
    "        return res"
   ]
  },
  {
   "cell_type": "code",
   "execution_count": null,
   "id": "710ecf90",
   "metadata": {},
   "outputs": [],
   "source": []
  },
  {
   "cell_type": "markdown",
   "id": "c0712f5e",
   "metadata": {},
   "source": [
    "### 908. 最小差值 I"
   ]
  },
  {
   "cell_type": "code",
   "execution_count": null,
   "id": "7029cadd",
   "metadata": {},
   "outputs": [],
   "source": [
    "# 这是个数学题\n",
    "class Solution:\n",
    "    def smallestRangeI(self, nums: List[int], k: int) -> int:\n",
    "        return  max(0, max(nums) - min(nums) - 2 * k)"
   ]
  },
  {
   "cell_type": "code",
   "execution_count": null,
   "id": "6ab63131",
   "metadata": {},
   "outputs": [],
   "source": []
  },
  {
   "cell_type": "code",
   "execution_count": 28,
   "id": "4df2d745",
   "metadata": {},
   "outputs": [
    {
     "data": {
      "text/plain": [
       "0"
      ]
     },
     "execution_count": 28,
     "metadata": {},
     "output_type": "execute_result"
    }
   ],
   "source": [
    "5 // 10"
   ]
  },
  {
   "cell_type": "code",
   "execution_count": 41,
   "id": "098ad759",
   "metadata": {},
   "outputs": [],
   "source": [
    "def radixSort(arr):\n",
    "    size = len(str(max(arr)))\n",
    "    # buckets = [[] for _ in range(10)]  多余的\n",
    "    \n",
    "    for i in range(size):\n",
    "        buckets = [[] for _ in range(10)]\n",
    "        for num in arr:\n",
    "            buckets[num // (10**i) % 10].append(num)\n",
    "        arr.clear()\n",
    "        for bucket in buckets:\n",
    "            for num in bucket:\n",
    "                arr.append(num)\n",
    "            \n",
    "    return arr"
   ]
  },
  {
   "cell_type": "code",
   "execution_count": 42,
   "id": "7f1381ec",
   "metadata": {},
   "outputs": [
    {
     "data": {
      "text/plain": [
       "[1, 3, 100]"
      ]
     },
     "execution_count": 42,
     "metadata": {},
     "output_type": "execute_result"
    }
   ],
   "source": [
    "arr = [1,3,100]\n",
    "radixSort(arr)"
   ]
  },
  {
   "cell_type": "code",
   "execution_count": 43,
   "id": "5cd1df49",
   "metadata": {},
   "outputs": [
    {
     "name": "stdout",
     "output_type": "stream",
     "text": [
      "97\n"
     ]
    }
   ],
   "source": [
    "nums = [1,3,100]\n",
    "\n",
    "maxNum = 0\n",
    "for i in range(len(nums)-1 ):\n",
    "    if nums[i+1] - nums[i] > maxNum:\n",
    "        maxNum = nums[i+1] - nums[i]\n",
    "print(maxNum)"
   ]
  },
  {
   "cell_type": "code",
   "execution_count": null,
   "id": "40c32e18",
   "metadata": {},
   "outputs": [],
   "source": []
  },
  {
   "cell_type": "markdown",
   "id": "6d50b0be",
   "metadata": {},
   "source": [
    "### 164. 最大间距"
   ]
  },
  {
   "cell_type": "code",
   "execution_count": null,
   "id": "ae7b1806",
   "metadata": {},
   "outputs": [],
   "source": [
    "# 基数排序解法\n",
    "class Solution:\n",
    "    def maximumGap(self, nums: List[int]) -> int:\n",
    "        # 基数排序，试下\n",
    "        size = len(str(max(nums)))\n",
    "\n",
    "        for i in range(size):\n",
    "            buckets = [ [] for _ in range(10) ]\n",
    "            for num in nums:\n",
    "                buckets[ num // (10**i) % 10].append(num)\n",
    "            nums.clear()\n",
    "            for bucket in buckets:\n",
    "                for num in bucket:\n",
    "                    nums.append(num)\n",
    "\n",
    "        maxNum = 0\n",
    "        for i in range(len(nums)-1 ):\n",
    "            if nums[i+1] - nums[i] > maxNum:\n",
    "                maxNum = nums[i+1] - nums[i]\n",
    "        return maxNum\n",
    "        "
   ]
  },
  {
   "cell_type": "code",
   "execution_count": null,
   "id": "3e9c2c33",
   "metadata": {},
   "outputs": [],
   "source": [
    "# 桶排序解法\n",
    "class Solution:\n",
    "    def maximumGap(self, nums: List[int]) -> int:\n",
    "        if  len(nums) < 2: return 0\n",
    "\n",
    "        # 初始化\n",
    "        Max = max(nums)\n",
    "        Min = min(nums)\n",
    "        max_gap = 0 \n",
    "\n",
    "        each_bucket_len = max(1, (Max-Min)// (len(nums)-1) )\n",
    "        # each_bucket_len = 50   # 自己指定还是有问题的。\n",
    "        buckets = [ [] for _ in range( (Max-Min)// each_bucket_len + 1 )]\n",
    "\n",
    "        # 把数字放入桶中\n",
    "        for i in range(len(nums)):\n",
    "            loc = (nums[i] - Min) // each_bucket_len\n",
    "            buckets[loc].append(nums[i])\n",
    "\n",
    "        # 遍历桶得到答案\n",
    "        prev_max = -10**10\n",
    "        for i in range(len(buckets)):\n",
    "            if buckets[i] and prev_max != -10**10:\n",
    "                max_gap = max( max_gap, min(buckets[i]) -prev_max )\n",
    "            if buckets[i]:\n",
    "                prev_max = max(buckets[i])\n",
    "        return max_gap"
   ]
  },
  {
   "cell_type": "code",
   "execution_count": null,
   "id": "c4c90942",
   "metadata": {},
   "outputs": [],
   "source": []
  },
  {
   "cell_type": "markdown",
   "id": "89791796",
   "metadata": {},
   "source": [
    "**问题：桶排序，桐子里面的顺序排序，怎么算？  排序也要时间啊。那还是 O(n) 时间复杂度嘛？**"
   ]
  },
  {
   "cell_type": "code",
   "execution_count": null,
   "id": "d1ff3132",
   "metadata": {},
   "outputs": [],
   "source": []
  },
  {
   "cell_type": "code",
   "execution_count": null,
   "id": "09584d25",
   "metadata": {},
   "outputs": [],
   "source": []
  }
 ],
 "metadata": {
  "kernelspec": {
   "display_name": "Python 3",
   "language": "python",
   "name": "python3"
  },
  "language_info": {
   "codemirror_mode": {
    "name": "ipython",
    "version": 3
   },
   "file_extension": ".py",
   "mimetype": "text/x-python",
   "name": "python",
   "nbconvert_exporter": "python",
   "pygments_lexer": "ipython3",
   "version": "3.8.3"
  }
 },
 "nbformat": 4,
 "nbformat_minor": 5
}
