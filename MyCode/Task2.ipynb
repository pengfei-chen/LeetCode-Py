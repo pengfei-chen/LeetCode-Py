{
 "cells": [
  {
   "cell_type": "markdown",
   "id": "c4672e87",
   "metadata": {},
   "source": [
    "## Day 1"
   ]
  },
  {
   "cell_type": "markdown",
   "id": "6afc4b3c",
   "metadata": {},
   "source": [
    "###  66. 加一"
   ]
  },
  {
   "cell_type": "code",
   "execution_count": 6,
   "id": "c8b7d480",
   "metadata": {},
   "outputs": [
    {
     "data": {
      "text/plain": [
       "[1, 2, 4]"
      ]
     },
     "execution_count": 6,
     "metadata": {},
     "output_type": "execute_result"
    }
   ],
   "source": [
    "# python 取巧解法\n",
    "class Solution:\n",
    "    def plusOne(self, digits):\n",
    "        s = ''\n",
    "        for i in digits:\n",
    "            s += str(i)\n",
    "        num = int(s)\n",
    "        num += 1\n",
    "        s = str(num)\n",
    "        ans = [int(i) for i in s]\n",
    "        return ans   # 需要用 return \n",
    "        \n",
    "m = Solution()\n",
    "digits = [1,2,3]\n",
    "m.plusOne(digits)"
   ]
  },
  {
   "cell_type": "code",
   "execution_count": null,
   "id": "2b4bfc4e",
   "metadata": {},
   "outputs": [],
   "source": [
    "# 正常解法\n",
    "class Solution:\n",
    "    def plusOne(self, digits: List[int]) -> List[int]:\n",
    "        for i in range(len(digits)-1, -1, -1):\n",
    "            if digits[i] is not 9:\n",
    "                digits[i] += 1\n",
    "                return digits\n",
    "            else:\n",
    "                digits[i] = 0\n",
    "                # 防止 9999 这种情况\n",
    "                if digits[0] is 0:\n",
    "                    digits.insert(0, 1)\n",
    "                    return digits\n"
   ]
  },
  {
   "cell_type": "code",
   "execution_count": null,
   "id": "66914634",
   "metadata": {},
   "outputs": [],
   "source": []
  },
  {
   "cell_type": "markdown",
   "id": "3f27728c",
   "metadata": {},
   "source": [
    "###  724. 寻找数组的中心下标"
   ]
  },
  {
   "cell_type": "code",
   "execution_count": null,
   "id": "bd615545",
   "metadata": {},
   "outputs": [],
   "source": [
    "class Solution:\n",
    "    def pivotIndex(self, nums: List[int]) -> int:\n",
    "        lst_l = [0] * len(nums)\n",
    "        for i in range( len(nums)-1 ):\n",
    "            lst_l[i+1] = lst_l[i] + nums[i]\n",
    "        lst_r = [0] * len(nums)\n",
    "        for i in range(len(nums)-1, 0, -1):\n",
    "            lst_r[i-1] = lst_r[i] + nums[i]\n",
    "        for i in range(len(nums)):\n",
    "            if lst_l[i] == lst_r[i]:\n",
    "                return i \n",
    "        return -1"
   ]
  },
  {
   "cell_type": "code",
   "execution_count": null,
   "id": "23223b58",
   "metadata": {},
   "outputs": [],
   "source": [
    "# 优化后解法\n",
    "class Solution:\n",
    "    def pivotIndex(self, nums: List[int]) -> int:\n",
    "        total = sum(nums)\n",
    "        sum_l = 0\n",
    "        for i in range( len(nums) ):\n",
    "            # 左边和等于右边和 sum_l = total -nums[i] - sum_l\n",
    "            if 2 * sum_l + nums[i] == total:\n",
    "                return i \n",
    "            sum_l += nums[i]\n",
    "        return -1"
   ]
  },
  {
   "cell_type": "code",
   "execution_count": null,
   "id": "c08c9ba5",
   "metadata": {},
   "outputs": [],
   "source": []
  },
  {
   "cell_type": "markdown",
   "id": "b3605382",
   "metadata": {},
   "source": [
    "### 189. 轮转数组"
   ]
  },
  {
   "cell_type": "code",
   "execution_count": 14,
   "id": "8453182d",
   "metadata": {},
   "outputs": [],
   "source": [
    "# 方法1\n",
    "class Solution:\n",
    "    def rotate(self, nums, k):\n",
    "        \"\"\"\n",
    "        Do not return anything, modify nums in-place instead.\n",
    "        \"\"\"\n",
    "        for i in range(k):\n",
    "            x = nums.pop()\n",
    "            nums.insert(0,x)\n",
    "    \n",
    "m = Solution()\n",
    "nums = [1,2,3,4,5,6,7]\n",
    "k = 3\n",
    "m.rotate(nums, k)"
   ]
  },
  {
   "cell_type": "code",
   "execution_count": 15,
   "id": "83ff8bd7",
   "metadata": {},
   "outputs": [
    {
     "data": {
      "text/plain": [
       "[5, 6, 7, 1, 2, 3, 4]"
      ]
     },
     "execution_count": 15,
     "metadata": {},
     "output_type": "execute_result"
    }
   ],
   "source": [
    "nums"
   ]
  },
  {
   "cell_type": "code",
   "execution_count": 17,
   "id": "cbf4308f",
   "metadata": {},
   "outputs": [
    {
     "name": "stdout",
     "output_type": "stream",
     "text": [
      "[4, 3, 2, 1, 5, 6, 7]\n",
      "[4, 3, 2, 1, 7, 6, 5]\n",
      "[5, 6, 7, 1, 2, 3, 4]\n"
     ]
    }
   ],
   "source": [
    "nums = [1,2,3,4,5,6,7]\n",
    "k = 3\n",
    "\n",
    "# 方法2\n",
    "n=len(nums)\n",
    "k=k%n\n",
    "def swap(l,r):\n",
    "    while(l<r):\n",
    "        nums[l],nums[r]=nums[r],nums[l]\n",
    "        l=l+1\n",
    "        r=r-1\n",
    "swap(0,n-k-1)\n",
    "print(nums)\n",
    "swap(n-k,n-1)\n",
    "print(nums)\n",
    "swap(0,n-1)\n",
    "print(nums)"
   ]
  },
  {
   "cell_type": "code",
   "execution_count": null,
   "id": "1cbb3e83",
   "metadata": {},
   "outputs": [],
   "source": [
    "class Solution:\n",
    "    def rotate(self, nums: List[int], k: int) -> None:\n",
    "        \"\"\"\n",
    "        Do not return anything, modify nums in-place instead.\n",
    "        \"\"\"\n",
    "        n=len(nums)\n",
    "        k=k%n\n",
    "        def swap(l,r):\n",
    "            while(l<r):\n",
    "                nums[l],nums[r]=nums[r],nums[l]\n",
    "                l=l+1\n",
    "                r=r-1\n",
    "        swap(0,n-k-1)\n",
    "        swap(n-k,n-1)\n",
    "        swap(0,n-1)\n",
    "        "
   ]
  },
  {
   "cell_type": "code",
   "execution_count": null,
   "id": "df0971da",
   "metadata": {},
   "outputs": [],
   "source": []
  },
  {
   "cell_type": "code",
   "execution_count": null,
   "id": "4732b34d",
   "metadata": {},
   "outputs": [],
   "source": [
    "# 方法3 \n",
    "class Solution:\n",
    "    def rotate(self, nums: List[int], k: int) -> None:\n",
    "        \"\"\"\n",
    "        Do not return anything, modify nums in-place instead.\n",
    "        \"\"\"\n",
    "        n=len(nums)\n",
    "        k=k%n  #这里很关键，不然会出错 如 nums = [1,2] k=3\n",
    "        nums[:] = nums[-k:] + nums[:-k]"
   ]
  },
  {
   "cell_type": "code",
   "execution_count": null,
   "id": "95c92337",
   "metadata": {},
   "outputs": [],
   "source": []
  },
  {
   "cell_type": "code",
   "execution_count": null,
   "id": "07ed70de",
   "metadata": {},
   "outputs": [],
   "source": []
  },
  {
   "cell_type": "markdown",
   "id": "8c7bfb67",
   "metadata": {},
   "source": [
    "## Day 2"
   ]
  },
  {
   "cell_type": "markdown",
   "id": "c9d90b1f",
   "metadata": {},
   "source": [
    "### 48. 旋转图像"
   ]
  },
  {
   "cell_type": "code",
   "execution_count": 5,
   "id": "437d8a40",
   "metadata": {},
   "outputs": [
    {
     "name": "stdout",
     "output_type": "stream",
     "text": [
      "(7, 4, 1)\n",
      "(8, 5, 2)\n",
      "(9, 6, 3)\n"
     ]
    }
   ],
   "source": [
    "matrix = [[1,2,3],[4,5,6],[7,8,9]]\n",
    "\n",
    "for item in zip(*matrix):\n",
    "    matrix[]   print(item[::-1])"
   ]
  },
  {
   "cell_type": "code",
   "execution_count": 10,
   "id": "670229e9",
   "metadata": {},
   "outputs": [
    {
     "data": {
      "text/plain": [
       "[[7, 4, 1], [8, 5, 2], [9, 6, 3]]"
      ]
     },
     "execution_count": 10,
     "metadata": {},
     "output_type": "execute_result"
    }
   ],
   "source": [
    "matrix = [[1,2,3],[4,5,6],[7,8,9]]\n",
    "\n",
    "matrix = [ list(x[::-1]) for x in zip(*matrix)]\n",
    "matrix"
   ]
  },
  {
   "cell_type": "code",
   "execution_count": 11,
   "id": "5cd0f922",
   "metadata": {},
   "outputs": [
    {
     "data": {
      "text/plain": [
       "[[7, 8, 9], [4, 5, 6], [1, 2, 3]]"
      ]
     },
     "execution_count": 11,
     "metadata": {},
     "output_type": "execute_result"
    }
   ],
   "source": [
    "matrix = [[1,2,3],[4,5,6],[7,8,9]]\n",
    "\n",
    "matrix[::-1]"
   ]
  },
  {
   "cell_type": "code",
   "execution_count": 13,
   "id": "381ec2fd",
   "metadata": {},
   "outputs": [],
   "source": [
    "# 方法1\n",
    "class Solution:\n",
    "    def rotate(self, matrix: List[List[int]]) -> None:\n",
    "        \"\"\"\n",
    "        Do not return anything, modify matrix in-place instead.\n",
    "        \"\"\"\n",
    "        matrix[:] = [ list(x[::-1]) for x in zip(*matrix)]"
   ]
  },
  {
   "cell_type": "code",
   "execution_count": null,
   "id": "5a5e7055",
   "metadata": {},
   "outputs": [],
   "source": [
    "# 方法1 变种\n",
    "class Solution:\n",
    "    def rotate(self, matrix: List[List[int]]) -> None:\n",
    "        \"\"\"\n",
    "        Do not return anything, modify matrix in-place instead.\n",
    "        \"\"\"\n",
    "        matrix[:] = zip(*matrix[::-1])"
   ]
  },
  {
   "cell_type": "code",
   "execution_count": null,
   "id": "d9b0904d",
   "metadata": {},
   "outputs": [],
   "source": []
  },
  {
   "cell_type": "markdown",
   "id": "77afd675",
   "metadata": {},
   "source": [
    "### 54. 螺旋矩阵"
   ]
  },
  {
   "cell_type": "code",
   "execution_count": 31,
   "id": "d8daf316",
   "metadata": {},
   "outputs": [],
   "source": [
    "matrix = [[1,2,3],[4,5,6],[7,8,9]]\n",
    "\n"
   ]
  },
  {
   "cell_type": "code",
   "execution_count": 34,
   "id": "3e6955ae",
   "metadata": {},
   "outputs": [
    {
     "name": "stdout",
     "output_type": "stream",
     "text": [
      "[1, 2, 3, 6, 9, 8, 7, 4, 5]\n"
     ]
    }
   ],
   "source": [
    "m = len(matrix)\n",
    "n = len(matrix[0])\n",
    "row_strat = 0\n",
    "row_end = m - 1 \n",
    "col_start = 0\n",
    "col_end = n - 1 \n",
    "\n",
    "lst = []\n",
    "while row_strat < row_end  and col_start < col_end:\n",
    "    for i in range(col_start, col_end):\n",
    "        lst.append(matrix[row_strat][i])\n",
    "    for i in range(row_strat, row_end):\n",
    "        lst.append( matrix[i][col_end] )\n",
    "    for i in range(col_end, col_start, -1):\n",
    "        lst.append( matrix[row_end][i]  )\n",
    "    for i in range(row_end, row_strat, -1):\n",
    "        lst.append( matrix[i][col_start]  )\n",
    "    row_strat += 1\n",
    "    row_end -= 1\n",
    "    col_start += 1\n",
    "    col_end -= 1\n",
    "    # 只有一行数据 \n",
    "    if row_strat == row_end:\n",
    "        for i in range(col_start, col_end+1):\n",
    "            lst.append( matrix[row_strat][i]  )\n",
    "    # 只有一列数据\n",
    "    elif col_start == col_end:\n",
    "        for i in range(row_strat, row_end+1):\n",
    "            lst.append( matrix[i][col_start]  )\n",
    "            \n",
    "print(lst)"
   ]
  },
  {
   "cell_type": "code",
   "execution_count": null,
   "id": "e77f7eee",
   "metadata": {},
   "outputs": [],
   "source": [
    "# 通过答案\n",
    "class Solution:\n",
    "    def spiralOrder(self, matrix: List[List[int]]) -> List[int]:\n",
    "        m = len(matrix)\n",
    "        n = len(matrix[0])\n",
    "        row_strat = 0\n",
    "        row_end = m - 1 \n",
    "        col_start = 0\n",
    "        col_end = n - 1 \n",
    "\n",
    "        lst = []\n",
    "        while row_strat < row_end  and col_start < col_end:\n",
    "            for i in range(col_start, col_end):\n",
    "                lst.append(matrix[row_strat][i])\n",
    "            for i in range(row_strat, row_end):\n",
    "                lst.append( matrix[i][col_end] )\n",
    "            for i in range(col_end, col_start, -1):\n",
    "                lst.append( matrix[row_end][i]  )\n",
    "            for i in range(row_end, row_strat, -1):\n",
    "                lst.append( matrix[i][col_start]  )\n",
    "            row_strat += 1\n",
    "            row_end -= 1\n",
    "            col_start += 1\n",
    "            col_end -= 1\n",
    "            # 只有一行数据 \n",
    "        if row_strat == row_end:\n",
    "            for i in range(col_start, col_end+1):\n",
    "                lst.append( matrix[row_strat][i]  )\n",
    "        # 只有一列数据\n",
    "        elif col_start == col_end:\n",
    "            for i in range(row_strat, row_end+1):\n",
    "                lst.append( matrix[i][col_start]  )\n",
    "                    \n",
    "        return  lst"
   ]
  },
  {
   "cell_type": "code",
   "execution_count": null,
   "id": "8dbf9418",
   "metadata": {},
   "outputs": [],
   "source": []
  },
  {
   "cell_type": "markdown",
   "id": "ab8fcb25",
   "metadata": {},
   "source": [
    "### 498. 对角线遍历"
   ]
  },
  {
   "cell_type": "code",
   "execution_count": null,
   "id": "ab5036f0",
   "metadata": {},
   "outputs": [],
   "source": [
    "\"\"\"\n",
    "输入：mat = [[1,2,3],[4,5,6],[7,8,9]]\n",
    "输出：[1,2,4,7,5,3,6,8,9]\n",
    "\"\"\""
   ]
  },
  {
   "cell_type": "code",
   "execution_count": null,
   "id": "c4c2d86b",
   "metadata": {},
   "outputs": [],
   "source": [
    "# 很好的想法！\n",
    "class Solution:\n",
    "    def findDiagonalOrder(self, mat: List[List[int]]) -> List[int]:\n",
    "        if len(mat) == 0:\n",
    "            return []\n",
    "        M,N, ans = len(mat), len(mat[0]), []\n",
    "        for cur_line in  range(M+N-1):\n",
    "            # 发现 行 起点，终点\n",
    "            row_begin = 0 if cur_line+1 <= N else cur_line+1-N \n",
    "            row_end = M-1 if cur_line+1 >= M else cur_line\n",
    "            # 奇数行，往左下走\n",
    "            if cur_line % 2==1:\n",
    "                for i in range(row_begin, row_end+1):\n",
    "                    ans.append( mat[i][cur_line-i] )\n",
    "            else:\n",
    "                for i in range(row_end,row_begin-1, -1):\n",
    "                    ans.append( mat[i][cur_line-i] )\n",
    "        return ans "
   ]
  },
  {
   "cell_type": "code",
   "execution_count": null,
   "id": "41de5fde",
   "metadata": {},
   "outputs": [],
   "source": []
  }
 ],
 "metadata": {
  "kernelspec": {
   "display_name": "Python 3",
   "language": "python",
   "name": "python3"
  },
  "language_info": {
   "codemirror_mode": {
    "name": "ipython",
    "version": 3
   },
   "file_extension": ".py",
   "mimetype": "text/x-python",
   "name": "python",
   "nbconvert_exporter": "python",
   "pygments_lexer": "ipython3",
   "version": "3.8.3"
  }
 },
 "nbformat": 4,
 "nbformat_minor": 5
}
