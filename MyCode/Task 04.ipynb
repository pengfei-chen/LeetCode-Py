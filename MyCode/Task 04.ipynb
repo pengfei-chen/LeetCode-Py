{
 "cells": [
  {
   "cell_type": "code",
   "execution_count": null,
   "id": "86518097",
   "metadata": {},
   "outputs": [],
   "source": []
  },
  {
   "cell_type": "markdown",
   "id": "ebbc3366",
   "metadata": {},
   "source": [
    "## Day 8"
   ]
  },
  {
   "cell_type": "markdown",
   "id": "5290d2c8",
   "metadata": {},
   "source": [
    "### 704. 二分查找"
   ]
  },
  {
   "cell_type": "code",
   "execution_count": null,
   "id": "ba4beaa8",
   "metadata": {},
   "outputs": [],
   "source": [
    "# 解法1\n",
    "class Solution:\n",
    "    def search(self, nums: List[int], target: int) -> int:\n",
    "        left = 0\n",
    "        right = len(nums) - 1\n",
    "        while left <= right:\n",
    "            mid = (left + right) // 2 \n",
    "            if nums[mid] == target:\n",
    "                return mid \n",
    "            elif nums[mid] < target:\n",
    "                left = mid + 1\n",
    "            else:\n",
    "                right = mid - 1\n",
    "        return -1 "
   ]
  },
  {
   "cell_type": "code",
   "execution_count": null,
   "id": "7f3780b0",
   "metadata": {},
   "outputs": [],
   "source": [
    "# 解法2\n",
    "# 这种思路适合解决复杂题目。比如查找一个数组里可能不存在的元素，找边界问题，可以使用这种思路。\n",
    "class Solution:\n",
    "    def search(self, nums: List[int], target: int) -> int:\n",
    "        left = 0\n",
    "        right = len(nums) - 1\n",
    "        # 减而治之\n",
    "        while left < right:\n",
    "            mid = left + (right - left)//2 \n",
    "            if nums[mid] < target:\n",
    "                left = mid + 1\n",
    "            else:\n",
    "                right = mid \n",
    "        return left if nums[left]==target else -1"
   ]
  },
  {
   "cell_type": "code",
   "execution_count": null,
   "id": "9237d94a",
   "metadata": {},
   "outputs": [],
   "source": []
  },
  {
   "cell_type": "markdown",
   "id": "2201f1ee",
   "metadata": {},
   "source": [
    "### 0035. 搜索插⼊位置"
   ]
  },
  {
   "cell_type": "code",
   "execution_count": 11,
   "id": "f5c37a5c",
   "metadata": {},
   "outputs": [],
   "source": [
    "nums = [1,3,5,6]\n",
    "target = 5\n",
    "\n",
    "def searchInsert(nums, target):\n",
    "    left = 0\n",
    "    right = len(nums) - 1\n",
    "    while left < right:\n",
    "        mid = left + (right-left + 1)//2\n",
    "        if nums[mid] > target:\n",
    "            right = mid - 1\n",
    "        else:\n",
    "            left = mid \n",
    "        print(\"left\",left)\n",
    "        print(\"right\",right)\n",
    "    if target > nums[left]:\n",
    "        ans = left + 1\n",
    "    elif target == nums[left]:\n",
    "        ans = left\n",
    "    else:\n",
    "        ans = left - 1 \n",
    "    return ans"
   ]
  },
  {
   "cell_type": "code",
   "execution_count": 12,
   "id": "09eb8850",
   "metadata": {
    "scrolled": true
   },
   "outputs": [
    {
     "name": "stdout",
     "output_type": "stream",
     "text": [
      "left 2\n",
      "right 3\n",
      "left 2\n",
      "right 2\n"
     ]
    },
    {
     "data": {
      "text/plain": [
       "2"
      ]
     },
     "execution_count": 12,
     "metadata": {},
     "output_type": "execute_result"
    }
   ],
   "source": [
    "searchInsert(nums, target)"
   ]
  },
  {
   "cell_type": "code",
   "execution_count": null,
   "id": "6751832c",
   "metadata": {},
   "outputs": [],
   "source": [
    "# 通过代码\n",
    "class Solution:\n",
    "    def searchInsert(self, nums: List[int], target: int) -> int:\n",
    "        left = 0\n",
    "        right = len(nums) - 1\n",
    "        while left < right:\n",
    "            mid = left + (right-left + 1)//2\n",
    "            if nums[mid] > target:\n",
    "                right = mid - 1\n",
    "            else:\n",
    "                left = mid \n",
    "        if target > nums[left]:\n",
    "            ans = left + 1\n",
    "        else:   #  target <= nums[left]\n",
    "            ans = left\n",
    "        return ans"
   ]
  },
  {
   "cell_type": "code",
   "execution_count": null,
   "id": "aaf8a233",
   "metadata": {},
   "outputs": [],
   "source": []
  },
  {
   "cell_type": "markdown",
   "id": "40e90f8f",
   "metadata": {},
   "source": [
    "### 374. 猜数字大小"
   ]
  },
  {
   "cell_type": "code",
   "execution_count": null,
   "id": "1fee71eb",
   "metadata": {},
   "outputs": [],
   "source": [
    "class Solution:\n",
    "    def guessNumber(self, n: int) -> int:\n",
    "        left = 0\n",
    "        right = n \n",
    "        while left <= right:\n",
    "            mid = (left + right) // 2 \n",
    "            if guess(mid) == 0:\n",
    "                return mid \n",
    "            elif guess(mid) == -1:\n",
    "                right = mid-1 \n",
    "            else:\n",
    "                left = mid + 1\n",
    "        return -1"
   ]
  },
  {
   "cell_type": "code",
   "execution_count": null,
   "id": "2cb919cd",
   "metadata": {},
   "outputs": [],
   "source": []
  },
  {
   "cell_type": "markdown",
   "id": "8472e177",
   "metadata": {},
   "source": [
    "## Day 9"
   ]
  },
  {
   "cell_type": "markdown",
   "id": "befff50f",
   "metadata": {},
   "source": [
    "### 69. Sqrt(x)"
   ]
  },
  {
   "cell_type": "code",
   "execution_count": null,
   "id": "285a4e6c",
   "metadata": {},
   "outputs": [],
   "source": [
    "# 通过代码\n",
    "class Solution:\n",
    "    def mySqrt(self, x: int) -> int:\n",
    "        l,r = 1, x/2 + 1\n",
    "        while l <= r:\n",
    "            m = (l+r) // 2\n",
    "            if m > x / m:\n",
    "                r = m - 1\n",
    "            elif m < x / m:\n",
    "                l = m + 1\n",
    "            else:\n",
    "                return int(m)\n",
    "        return int(r) "
   ]
  },
  {
   "cell_type": "code",
   "execution_count": null,
   "id": "16383bab",
   "metadata": {},
   "outputs": [],
   "source": []
  },
  {
   "cell_type": "markdown",
   "id": "021339ec",
   "metadata": {},
   "source": [
    "### 167. 两数之和 II - 输入有序数组"
   ]
  },
  {
   "cell_type": "code",
   "execution_count": null,
   "id": "87ac15a8",
   "metadata": {},
   "outputs": [],
   "source": [
    "class Solution:\n",
    "    def twoSum(self, numbers: List[int], target: int) -> List[int]:\n",
    "        if not numbers:\n",
    "            return []\n",
    "        l, r = 0, len(numbers) -1\n",
    "        while l < r:\n",
    "            if numbers[l] + numbers[r] == target:\n",
    "                return [l+1, r+1]\n",
    "            elif numbers[l] + numbers[r] > target:\n",
    "                r = r-1\n",
    "            else:\n",
    "                l += 1"
   ]
  },
  {
   "cell_type": "code",
   "execution_count": null,
   "id": "7053cda1",
   "metadata": {},
   "outputs": [],
   "source": []
  },
  {
   "cell_type": "markdown",
   "id": "5db7e1b2",
   "metadata": {},
   "source": [
    "### 1011. 在 D 天内送达包裹的能力"
   ]
  },
  {
   "cell_type": "code",
   "execution_count": null,
   "id": "de9eea7b",
   "metadata": {},
   "outputs": [],
   "source": [
    "# 通过代码\n",
    "class Solution:\n",
    "    def shipWithinDays(self, weights: List[int], days: int) -> int:\n",
    "        left, right = max(weights), sum(weights)\n",
    "        while left < right:\n",
    "            mid = (left + right) // 2\n",
    "            # need 为需要运送的天数\n",
    "            # cur 为当前这一天已经运送的包裹重量之和\n",
    "            need, cur = 1, 0\n",
    "            for weight in weights:\n",
    "                if cur + weight > mid:\n",
    "                    need += 1\n",
    "                    cur = 0 \n",
    "                cur += weight \n",
    "\n",
    "            if need <= days:\n",
    "                right = mid \n",
    "            else:\n",
    "                left = mid + 1\n",
    "\n",
    "        return left "
   ]
  },
  {
   "cell_type": "code",
   "execution_count": null,
   "id": "947a5e8d",
   "metadata": {},
   "outputs": [],
   "source": []
  },
  {
   "cell_type": "markdown",
   "id": "5e6b58e7",
   "metadata": {},
   "source": [
    "## Day 10"
   ]
  },
  {
   "cell_type": "markdown",
   "id": "41c2c1b6",
   "metadata": {},
   "source": [
    "### 278. 第一个错误的版本"
   ]
  },
  {
   "cell_type": "code",
   "execution_count": null,
   "id": "d0e99f32",
   "metadata": {},
   "outputs": [],
   "source": [
    "# The isBadVersion API is already defined for you.\n",
    "# @param version, an integer\n",
    "# @return an integer\n",
    "# def isBadVersion(version):\n",
    "\n",
    "class Solution:\n",
    "    def firstBadVersion(self, n):\n",
    "        \"\"\"\n",
    "        :type n: int\n",
    "        :rtype: int\n",
    "        \"\"\"\n",
    "        left = 1\n",
    "        right = n\n",
    "        while left <= right:\n",
    "            mid = (left + right ) // 2\n",
    "            if isBadVersion(mid):\n",
    "                right = mid - 1\n",
    "            else:\n",
    "                left = mid + 1\n",
    "            \n",
    "        return left "
   ]
  },
  {
   "cell_type": "code",
   "execution_count": null,
   "id": "b27ae629",
   "metadata": {},
   "outputs": [],
   "source": []
  },
  {
   "cell_type": "markdown",
   "id": "81d74809",
   "metadata": {},
   "source": [
    "### 33. 搜索旋转排序数组"
   ]
  },
  {
   "cell_type": "code",
   "execution_count": null,
   "id": "f3cfdadf",
   "metadata": {},
   "outputs": [],
   "source": [
    "# 通过代码\n",
    "class Solution:\n",
    "    def search(self, nums: List[int], target: int) -> int:\n",
    "        if not nums:\n",
    "            return -1 \n",
    "        l,r = 0, len(nums) - 1\n",
    "        while l <= r:\n",
    "            mid = (l + r) // 2\n",
    "            if nums[mid] == target:\n",
    "                return mid \n",
    "            if nums[0] <= nums[mid]:  #左边部分有序\n",
    "                if nums[0] <= target < nums[mid]:\n",
    "                    r = mid -1 \n",
    "                else:\n",
    "                    l = mid + 1\n",
    "            else:  # 右边半部分有序\n",
    "                if nums[mid] < target <= nums[len(nums)-1]:\n",
    "                     l = mid + 1\n",
    "                else:\n",
    "                    r = mid - 1\n",
    "        return -1 "
   ]
  },
  {
   "cell_type": "code",
   "execution_count": null,
   "id": "5fdbc77b",
   "metadata": {},
   "outputs": [],
   "source": []
  },
  {
   "cell_type": "markdown",
   "id": "16dcc874",
   "metadata": {},
   "source": [
    "### 153. 寻找旋转排序数组中的最小值"
   ]
  },
  {
   "cell_type": "code",
   "execution_count": null,
   "id": "0cc13037",
   "metadata": {},
   "outputs": [],
   "source": []
  },
  {
   "cell_type": "code",
   "execution_count": null,
   "id": "66952947",
   "metadata": {},
   "outputs": [],
   "source": []
  },
  {
   "cell_type": "code",
   "execution_count": null,
   "id": "8d9ed1d8",
   "metadata": {},
   "outputs": [],
   "source": []
  },
  {
   "cell_type": "code",
   "execution_count": null,
   "id": "b6fdacef",
   "metadata": {},
   "outputs": [],
   "source": []
  },
  {
   "cell_type": "code",
   "execution_count": null,
   "id": "e1d82751",
   "metadata": {},
   "outputs": [],
   "source": []
  },
  {
   "cell_type": "code",
   "execution_count": 8,
   "id": "69cde977",
   "metadata": {},
   "outputs": [],
   "source": [
    "def findMin(nums):\n",
    "        low, high = 0 ,len(nums)-1\n",
    "        while low < high:   # 测试发现这里不能等于\n",
    "            pivot = (low +  high) // 2 \n",
    "            if nums[pivot] <= nums[high]: # 最小值不会出现在右边\n",
    "                high = pivot \n",
    "            else:\n",
    "                low = pivot + 1\n",
    "#             print(low)\n",
    "#             print(high)\n",
    "#             print(\"***\")\n",
    "        return nums[low]"
   ]
  },
  {
   "cell_type": "code",
   "execution_count": 9,
   "id": "63b3a16a",
   "metadata": {},
   "outputs": [
    {
     "data": {
      "text/plain": [
       "1"
      ]
     },
     "execution_count": 9,
     "metadata": {},
     "output_type": "execute_result"
    }
   ],
   "source": [
    "nums = [3,4,5,1,2]\n",
    "findMin(nums)"
   ]
  },
  {
   "cell_type": "code",
   "execution_count": null,
   "id": "3547da6f",
   "metadata": {},
   "outputs": [],
   "source": [
    "# 通过代码\n",
    "class Solution:\n",
    "    def findMin(self, nums: List[int]) -> int:\n",
    "        low, high = 0 ,len(nums)-1\n",
    "        while low < high:   # 测试发现这里不能等于\n",
    "            pivot = (low +  high) // 2 \n",
    "            if nums[pivot] <= nums[high]: # 最小值不会出现在右边\n",
    "                high = pivot \n",
    "            else:\n",
    "                low = pivot + 1\n",
    "        return nums[low]"
   ]
  }
 ],
 "metadata": {
  "kernelspec": {
   "display_name": "Python 3",
   "language": "python",
   "name": "python3"
  },
  "language_info": {
   "codemirror_mode": {
    "name": "ipython",
    "version": 3
   },
   "file_extension": ".py",
   "mimetype": "text/x-python",
   "name": "python",
   "nbconvert_exporter": "python",
   "pygments_lexer": "ipython3",
   "version": "3.8.3"
  }
 },
 "nbformat": 4,
 "nbformat_minor": 5
}
