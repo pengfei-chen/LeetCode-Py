{
 "cells": [
  {
   "cell_type": "code",
   "execution_count": null,
   "id": "c3d78812",
   "metadata": {},
   "outputs": [],
   "source": []
  },
  {
   "cell_type": "markdown",
   "id": "f48fe6d6",
   "metadata": {},
   "source": [
    "## Day 11"
   ]
  },
  {
   "cell_type": "markdown",
   "id": "f4355fc5",
   "metadata": {},
   "source": [
    "### 344. 反转字符串"
   ]
  },
  {
   "cell_type": "code",
   "execution_count": null,
   "id": "7c008d74",
   "metadata": {},
   "outputs": [],
   "source": [
    "# 通过代码\n",
    "class Solution:\n",
    "    def reverseString(self, s: List[str]) -> None:\n",
    "        \"\"\"\n",
    "        Do not return anything, modify s in-place instead.\n",
    "        \"\"\"\n",
    "        l,r = 0, len(s)-1\n",
    "        while l<r:\n",
    "            s[l], s[r] = s[r], s[l]\n",
    "            l += 1\n",
    "            r -= 1"
   ]
  },
  {
   "cell_type": "code",
   "execution_count": null,
   "id": "d7ca3165",
   "metadata": {},
   "outputs": [],
   "source": []
  },
  {
   "cell_type": "markdown",
   "id": "f2723d88",
   "metadata": {},
   "source": [
    "### 15. 三数之和"
   ]
  },
  {
   "cell_type": "code",
   "execution_count": 22,
   "id": "51e25f08",
   "metadata": {},
   "outputs": [
    {
     "name": "stdout",
     "output_type": "stream",
     "text": [
      "[[-1, 2, -1], [0, 1, -1]]\n"
     ]
    }
   ],
   "source": [
    "def help(arr, target):\n",
    "    res = []\n",
    "    l,r = 0, len(arr)-1\n",
    "    while l < r:  # 两数和，不能等\n",
    "        Sum = arr[l] + arr[r]\n",
    "        if Sum == target:\n",
    "            res.append( [arr[l], arr[r]] ) \n",
    "            l += 1\n",
    "            r -= 1\n",
    "        elif Sum > target:\n",
    "            r -= 1\n",
    "        else:\n",
    "            l += 1 \n",
    "    return res \n",
    "\n",
    "\n",
    "nums = [-1,0,1,2,-1,-4]    \n",
    "nums.sort()\n",
    "\n",
    "ans = []\n",
    "for i in range(len(nums)):\n",
    "    target = 0 - nums[i] \n",
    "    arr = nums[i+1:]\n",
    "    res = help(arr, target)\n",
    "\n",
    "    for item in res:\n",
    "        item.append(nums[i])\n",
    "        if item not in ans:\n",
    "            ans.append(item)\n",
    "\n",
    "print(ans)"
   ]
  },
  {
   "cell_type": "code",
   "execution_count": null,
   "id": "dd6b62bb",
   "metadata": {},
   "outputs": [],
   "source": [
    "#  测试用例全都通过了，但是超时了\n",
    "class Solution:\n",
    "    def threeSum(self, nums: List[int]) -> List[List[int]]:\n",
    "        def help(arr, target):\n",
    "            res = []\n",
    "            l,r = 0, len(arr)-1\n",
    "            while l < r:  # 两数和，不能等\n",
    "                Sum = arr[l] + arr[r]\n",
    "                if Sum == target:\n",
    "                    res.append( [arr[l], arr[r]] ) \n",
    "                    l +=1\n",
    "                    r -= 1\n",
    "                elif Sum > target:\n",
    "                    r -= 1\n",
    "                else:\n",
    "                    l += 1 \n",
    "            return res \n",
    "\n",
    "        nums.sort()\n",
    "        ans = []\n",
    "        for i in range(len(nums)):\n",
    "            target = 0 - nums[i] \n",
    "            arr = nums[i+1:]\n",
    "            res = help(arr, target)\n",
    "\n",
    "            for item in res:\n",
    "                item.append(nums[i])\n",
    "                item.sort()\n",
    "                if item not in ans:\n",
    "                    ans.append(item)\n",
    "\n",
    "        return ans "
   ]
  },
  {
   "cell_type": "code",
   "execution_count": null,
   "id": "b51b92b3",
   "metadata": {},
   "outputs": [],
   "source": [
    "# 自己写通过的答案\n",
    "class Solution:\n",
    "    def threeSum(self, nums: List[int]) -> List[List[int]]:\n",
    "        def help(arr, target):\n",
    "            res = []\n",
    "            l,r = 0, len(arr)-1\n",
    "            while l < r:  # 两数和，不能等\n",
    "                Sum = arr[l] + arr[r]\n",
    "                if Sum == target:\n",
    "                    res.append( [arr[l], arr[r]] ) \n",
    "                    l +=1\n",
    "                    r -= 1\n",
    "                elif Sum > target:\n",
    "                    r -= 1\n",
    "                else:\n",
    "                    l += 1 \n",
    "            return res \n",
    "\n",
    "        nums.sort()\n",
    "        ans = []\n",
    "        for i in range(len(nums)):\n",
    "            if i>0 and nums[i]==nums[i-1]:\n",
    "                continue\n",
    "            target = 0 - nums[i] \n",
    "            arr = nums[i+1:]      # 因为答案顺序关系，不用考虑之前的元素\n",
    "            res = help(arr, target)\n",
    "\n",
    "            for item in res:\n",
    "                item = [ nums[i] ] + item\n",
    "                if item not in ans:\n",
    "                    ans.append(item)\n",
    "\n",
    "        return ans \n",
    "        "
   ]
  },
  {
   "cell_type": "code",
   "execution_count": null,
   "id": "645d7e75",
   "metadata": {},
   "outputs": [],
   "source": [
    "# 官方答案更快！\n",
    "class Solution:\n",
    "    def threeSum(self, nums: List[int]) -> List[List[int]]:\n",
    "        n = len(nums)\n",
    "        nums.sort()\n",
    "        ans = list()\n",
    "        \n",
    "        # 枚举 a\n",
    "        for first in range(n):\n",
    "            # 需要和上一次枚举的数不相同\n",
    "            if first > 0 and nums[first] == nums[first - 1]:\n",
    "                continue\n",
    "            # c 对应的指针初始指向数组的最右端\n",
    "            third = n - 1\n",
    "            target = -nums[first]\n",
    "            # 枚举 b\n",
    "            for second in range(first + 1, n):\n",
    "                # 需要和上一次枚举的数不相同\n",
    "                if second > first + 1 and nums[second] == nums[second - 1]:\n",
    "                    continue\n",
    "                # 需要保证 b 的指针在 c 的指针的左侧\n",
    "                while second < third and nums[second] + nums[third] > target:\n",
    "                    third -= 1\n",
    "                # 如果指针重合，随着 b 后续的增加\n",
    "                # 就不会有满足 a+b+c=0 并且 b<c 的 c 了，可以退出循环\n",
    "                if second == third:\n",
    "                    break\n",
    "                if nums[second] + nums[third] == target:\n",
    "                    ans.append([nums[first], nums[second], nums[third]])\n",
    "        \n",
    "        return ans\n"
   ]
  },
  {
   "cell_type": "code",
   "execution_count": null,
   "id": "ee4866a4",
   "metadata": {},
   "outputs": [],
   "source": []
  },
  {
   "cell_type": "markdown",
   "id": "19ec5bcd",
   "metadata": {},
   "source": [
    "### 80. 删除有序数组中的重复项 II"
   ]
  },
  {
   "cell_type": "code",
   "execution_count": null,
   "id": "e97d93ed",
   "metadata": {},
   "outputs": [],
   "source": [
    "class Solution:\n",
    "    def removeDuplicates(self, nums: List[int]) -> int:\n",
    "        # 牛逼的思路 \n",
    "        def solve(k):\n",
    "            u = 0 \n",
    "            for x in nums:\n",
    "                if u < k or nums[u-k] != x:\n",
    "                    nums[u] = x \n",
    "                    u += 1\n",
    "            return u \n",
    "        return solve(2)"
   ]
  },
  {
   "cell_type": "code",
   "execution_count": null,
   "id": "d9f154dc",
   "metadata": {},
   "outputs": [],
   "source": []
  }
 ],
 "metadata": {
  "kernelspec": {
   "display_name": "Python 3",
   "language": "python",
   "name": "python3"
  },
  "language_info": {
   "codemirror_mode": {
    "name": "ipython",
    "version": 3
   },
   "file_extension": ".py",
   "mimetype": "text/x-python",
   "name": "python",
   "nbconvert_exporter": "python",
   "pygments_lexer": "ipython3",
   "version": "3.8.3"
  }
 },
 "nbformat": 4,
 "nbformat_minor": 5
}
