{
 "cells": [
  {
   "cell_type": "code",
   "execution_count": null,
   "id": "c3d78812",
   "metadata": {},
   "outputs": [],
   "source": []
  },
  {
   "cell_type": "markdown",
   "id": "f48fe6d6",
   "metadata": {},
   "source": [
    "## Day 11"
   ]
  },
  {
   "cell_type": "markdown",
   "id": "f4355fc5",
   "metadata": {},
   "source": [
    "### 344. 反转字符串"
   ]
  },
  {
   "cell_type": "code",
   "execution_count": null,
   "id": "7c008d74",
   "metadata": {},
   "outputs": [],
   "source": [
    "# 通过代码\n",
    "class Solution:\n",
    "    def reverseString(self, s: List[str]) -> None:\n",
    "        \"\"\"\n",
    "        Do not return anything, modify s in-place instead.\n",
    "        \"\"\"\n",
    "        l,r = 0, len(s)-1\n",
    "        while l<r:\n",
    "            s[l], s[r] = s[r], s[l]\n",
    "            l += 1\n",
    "            r -= 1"
   ]
  },
  {
   "cell_type": "code",
   "execution_count": null,
   "id": "d7ca3165",
   "metadata": {},
   "outputs": [],
   "source": []
  },
  {
   "cell_type": "markdown",
   "id": "f2723d88",
   "metadata": {},
   "source": [
    "### 15. 三数之和"
   ]
  },
  {
   "cell_type": "code",
   "execution_count": 22,
   "id": "51e25f08",
   "metadata": {},
   "outputs": [
    {
     "name": "stdout",
     "output_type": "stream",
     "text": [
      "[[-1, 2, -1], [0, 1, -1]]\n"
     ]
    }
   ],
   "source": [
    "def help(arr, target):\n",
    "    res = []\n",
    "    l,r = 0, len(arr)-1\n",
    "    while l < r:  # 两数和，不能等\n",
    "        Sum = arr[l] + arr[r]\n",
    "        if Sum == target:\n",
    "            res.append( [arr[l], arr[r]] ) \n",
    "            l += 1\n",
    "            r -= 1\n",
    "        elif Sum > target:\n",
    "            r -= 1\n",
    "        else:\n",
    "            l += 1 \n",
    "    return res \n",
    "\n",
    "\n",
    "nums = [-1,0,1,2,-1,-4]    \n",
    "nums.sort()\n",
    "\n",
    "ans = []\n",
    "for i in range(len(nums)):\n",
    "    target = 0 - nums[i] \n",
    "    arr = nums[i+1:]\n",
    "    res = help(arr, target)\n",
    "\n",
    "    for item in res:\n",
    "        item.append(nums[i])\n",
    "        if item not in ans:\n",
    "            ans.append(item)\n",
    "\n",
    "print(ans)"
   ]
  },
  {
   "cell_type": "code",
   "execution_count": null,
   "id": "dd6b62bb",
   "metadata": {},
   "outputs": [],
   "source": [
    "#  测试用例全都通过了，但是超时了\n",
    "class Solution:\n",
    "    def threeSum(self, nums: List[int]) -> List[List[int]]:\n",
    "        def help(arr, target):\n",
    "            res = []\n",
    "            l,r = 0, len(arr)-1\n",
    "            while l < r:  # 两数和，不能等\n",
    "                Sum = arr[l] + arr[r]\n",
    "                if Sum == target:\n",
    "                    res.append( [arr[l], arr[r]] ) \n",
    "                    l +=1\n",
    "                    r -= 1\n",
    "                elif Sum > target:\n",
    "                    r -= 1\n",
    "                else:\n",
    "                    l += 1 \n",
    "            return res \n",
    "\n",
    "        nums.sort()\n",
    "        ans = []\n",
    "        for i in range(len(nums)):\n",
    "            target = 0 - nums[i] \n",
    "            arr = nums[i+1:]\n",
    "            res = help(arr, target)\n",
    "\n",
    "            for item in res:\n",
    "                item.append(nums[i])\n",
    "                item.sort()\n",
    "                if item not in ans:\n",
    "                    ans.append(item)\n",
    "\n",
    "        return ans "
   ]
  },
  {
   "cell_type": "code",
   "execution_count": null,
   "id": "b51b92b3",
   "metadata": {},
   "outputs": [],
   "source": [
    "# 自己写通过的答案\n",
    "class Solution:\n",
    "    def threeSum(self, nums: List[int]) -> List[List[int]]:\n",
    "        def help(arr, target):\n",
    "            res = []\n",
    "            l,r = 0, len(arr)-1\n",
    "            while l < r:  # 两数和，不能等\n",
    "                Sum = arr[l] + arr[r]\n",
    "                if Sum == target:\n",
    "                    res.append( [arr[l], arr[r]] ) \n",
    "                    l +=1\n",
    "                    r -= 1\n",
    "                elif Sum > target:\n",
    "                    r -= 1\n",
    "                else:\n",
    "                    l += 1 \n",
    "            return res \n",
    "\n",
    "        nums.sort()\n",
    "        ans = []\n",
    "        for i in range(len(nums)):\n",
    "            if i>0 and nums[i]==nums[i-1]:\n",
    "                continue\n",
    "            target = 0 - nums[i] \n",
    "            arr = nums[i+1:]      # 因为答案顺序关系，不用考虑之前的元素\n",
    "            res = help(arr, target)\n",
    "\n",
    "            for item in res:\n",
    "                item = [ nums[i] ] + item\n",
    "                if item not in ans:\n",
    "                    ans.append(item)\n",
    "\n",
    "        return ans \n",
    "        "
   ]
  },
  {
   "cell_type": "code",
   "execution_count": null,
   "id": "645d7e75",
   "metadata": {},
   "outputs": [],
   "source": [
    "# 官方答案更快！\n",
    "class Solution:\n",
    "    def threeSum(self, nums: List[int]) -> List[List[int]]:\n",
    "        n = len(nums)\n",
    "        nums.sort()\n",
    "        ans = list()\n",
    "        \n",
    "        # 枚举 a\n",
    "        for first in range(n):\n",
    "            # 需要和上一次枚举的数不相同\n",
    "            if first > 0 and nums[first] == nums[first - 1]:\n",
    "                continue\n",
    "            # c 对应的指针初始指向数组的最右端\n",
    "            third = n - 1\n",
    "            target = -nums[first]\n",
    "            # 枚举 b\n",
    "            for second in range(first + 1, n):\n",
    "                # 需要和上一次枚举的数不相同\n",
    "                if second > first + 1 and nums[second] == nums[second - 1]:\n",
    "                    continue\n",
    "                # 需要保证 b 的指针在 c 的指针的左侧\n",
    "                while second < third and nums[second] + nums[third] > target:\n",
    "                    third -= 1\n",
    "                # 如果指针重合，随着 b 后续的增加\n",
    "                # 就不会有满足 a+b+c=0 并且 b<c 的 c 了，可以退出循环\n",
    "                if second == third:\n",
    "                    break\n",
    "                if nums[second] + nums[third] == target:\n",
    "                    ans.append([nums[first], nums[second], nums[third]])\n",
    "        \n",
    "        return ans\n"
   ]
  },
  {
   "cell_type": "code",
   "execution_count": null,
   "id": "ee4866a4",
   "metadata": {},
   "outputs": [],
   "source": []
  },
  {
   "cell_type": "markdown",
   "id": "19ec5bcd",
   "metadata": {},
   "source": [
    "### 80. 删除有序数组中的重复项 II"
   ]
  },
  {
   "cell_type": "code",
   "execution_count": null,
   "id": "e97d93ed",
   "metadata": {},
   "outputs": [],
   "source": [
    "class Solution:\n",
    "    def removeDuplicates(self, nums: List[int]) -> int:\n",
    "        # 牛逼的思路 \n",
    "        def solve(k):\n",
    "            u = 0 \n",
    "            for x in nums:\n",
    "                if u < k or nums[u-k] != x:\n",
    "                    nums[u] = x \n",
    "                    u += 1\n",
    "            return u \n",
    "        return solve(2)"
   ]
  },
  {
   "cell_type": "code",
   "execution_count": null,
   "id": "d9f154dc",
   "metadata": {},
   "outputs": [],
   "source": []
  },
  {
   "cell_type": "markdown",
   "id": "01b21032",
   "metadata": {},
   "source": [
    "## Day12"
   ]
  },
  {
   "cell_type": "markdown",
   "id": "28b07eaf",
   "metadata": {},
   "source": [
    "### 283. 移动零"
   ]
  },
  {
   "cell_type": "code",
   "execution_count": 1,
   "id": "7324e41d",
   "metadata": {},
   "outputs": [],
   "source": [
    "def moveZeroes(nums):\n",
    "        \"\"\"\n",
    "        Do not return anything, modify nums in-place instead.\n",
    "        \"\"\"\n",
    "        n = len(nums)\n",
    "        left = right = 0\n",
    "        while right < n:\n",
    "            if nums[right] != 0:\n",
    "                nums[left], nums[right] = nums[right], nums[left]\n",
    "                left += 1\n",
    "            right += 1\n",
    "        return nums\n"
   ]
  },
  {
   "cell_type": "code",
   "execution_count": 2,
   "id": "d7810c12",
   "metadata": {},
   "outputs": [
    {
     "data": {
      "text/plain": [
       "[12, 3, 1, 2, 0, 0]"
      ]
     },
     "execution_count": 2,
     "metadata": {},
     "output_type": "execute_result"
    }
   ],
   "source": [
    "nums = [12,0,3,1,0,2]\n",
    "moveZeroes(nums)"
   ]
  },
  {
   "cell_type": "code",
   "execution_count": null,
   "id": "e8afd987",
   "metadata": {},
   "outputs": [],
   "source": [
    "# 通过答案\n",
    "class Solution:\n",
    "    def moveZeroes(self, nums: List[int]) -> None:\n",
    "        \"\"\"\n",
    "        Do not return anything, modify nums in-place instead.\n",
    "        \"\"\"\n",
    "        n = len(nums)\n",
    "        left = right = 0\n",
    "        while right < n:\n",
    "            if nums[right] != 0:\n",
    "                # left 左边都是非零元素\n",
    "                nums[left], nums[right] = nums[right], nums[left]\n",
    "                left += 1\n",
    "            right += 1"
   ]
  },
  {
   "cell_type": "code",
   "execution_count": null,
   "id": "23225406",
   "metadata": {},
   "outputs": [],
   "source": []
  },
  {
   "cell_type": "markdown",
   "id": "3d543029",
   "metadata": {},
   "source": [
    "### 75. 颜色分类"
   ]
  },
  {
   "cell_type": "code",
   "execution_count": null,
   "id": "f56fadcd",
   "metadata": {},
   "outputs": [],
   "source": [
    "# 通过代码，这题之前好像做过\n",
    "class Solution:\n",
    "    def sortColors(self, nums: List[int]) -> None:\n",
    "        \"\"\"\n",
    "        Do not return anything, modify nums in-place instead.\n",
    "        \"\"\"\n",
    "        # all in [0, zero) = 0\n",
    "        # all in [zero, i) = 1\n",
    "        # all in [two, len - 1] = 2\n",
    "\n",
    "        size = len(nums)\n",
    "        if size < 2:\n",
    "            return \n",
    "        \n",
    "        def change(nums, a, b):\n",
    "            nums[a], nums[b] = nums[b], nums[a]\n",
    "\n",
    "        zero = 0\n",
    "        i = 0\n",
    "        two = size  \n",
    "\n",
    "        while i < two:\n",
    "            if nums[i] == 0:\n",
    "                change(nums, i ,zero)\n",
    "                zero += 1\n",
    "                i += 1\n",
    "            elif nums[i] == 1:\n",
    "                i += 1\n",
    "            else:\n",
    "                two -= 1\n",
    "                change(nums, i ,two)"
   ]
  },
  {
   "cell_type": "code",
   "execution_count": null,
   "id": "374d60bf",
   "metadata": {},
   "outputs": [],
   "source": []
  },
  {
   "cell_type": "markdown",
   "id": "696bf66c",
   "metadata": {},
   "source": [
    "### 88. 合并两个有序数组"
   ]
  },
  {
   "cell_type": "code",
   "execution_count": null,
   "id": "097a7874",
   "metadata": {},
   "outputs": [],
   "source": [
    "# 通过的代码\n",
    "class Solution:\n",
    "    def merge(self, nums1: List[int], m: int, nums2: List[int], n: int) -> None:\n",
    "        \"\"\"\n",
    "        Do not return anything, modify nums1 in-place instead.\n",
    "        \"\"\"\n",
    "        # 三指针解法 \n",
    "        p1, p2 = m-1, n-1 \n",
    "        tail = m+n-1\n",
    "        while p1>=0 or p2 >=0:\n",
    "            if p1 == -1:\n",
    "                nums1[tail] = nums2[p2]\n",
    "                p2 -= 1\n",
    "            elif p2 == -1:\n",
    "                nums1[tail] = nums1[p1]\n",
    "                p1 -= 1\n",
    "            elif nums1[p1] > nums2[p2]:\n",
    "                nums1[tail] = nums1[p1]\n",
    "                p1 -= 1\n",
    "            else:\n",
    "                nums1[tail] = nums2[p2]\n",
    "                p2 -= 1\n",
    "            tail -= 1"
   ]
  },
  {
   "cell_type": "code",
   "execution_count": null,
   "id": "bea8fcb9",
   "metadata": {},
   "outputs": [],
   "source": []
  },
  {
   "cell_type": "markdown",
   "id": "fafb140f",
   "metadata": {},
   "source": [
    "## Day13"
   ]
  },
  {
   "cell_type": "markdown",
   "id": "fb321025",
   "metadata": {},
   "source": [
    "### 674. 最长连续递增序列"
   ]
  },
  {
   "cell_type": "code",
   "execution_count": null,
   "id": "7b8c7b62",
   "metadata": {},
   "outputs": [],
   "source": [
    "# 自写，通过代码\n",
    "class Solution:\n",
    "    def findLengthOfLCIS(self, nums: List[int]) -> int:\n",
    "        length, l,r = 1, 0, 0  # r不能从1开始,\n",
    "        Max = 0 \n",
    "\n",
    "        while r < len(nums):\n",
    "            if nums[r] > nums[l]:\n",
    "                length += 1\n",
    "                Max = max(Max, length)\n",
    "                l += 1\n",
    "                r += 1\n",
    "            else:\n",
    "                length = 1\n",
    "                Max = max(Max, length)\n",
    "                l,r = r,r+1 \n",
    "\n",
    "        return Max "
   ]
  },
  {
   "cell_type": "code",
   "execution_count": null,
   "id": "30841bac",
   "metadata": {},
   "outputs": [],
   "source": []
  },
  {
   "cell_type": "markdown",
   "id": "633f91e1",
   "metadata": {},
   "source": [
    "### 1004. 最大连续1的个数 III"
   ]
  },
  {
   "cell_type": "code",
   "execution_count": null,
   "id": "d25e53e4",
   "metadata": {},
   "outputs": [],
   "source": [
    "\"\"\"\n",
    "题意转换。把「最多可以把 K 个 0 变成 1，求仅包含 1 的最长子数组的长度」转换为 「找出一个最长的子数组，该子数组内最多允许有 K 个 0 」。\n",
    "\"\"\""
   ]
  },
  {
   "cell_type": "code",
   "execution_count": null,
   "id": "4aeef99c",
   "metadata": {},
   "outputs": [],
   "source": [
    "# 牛逼的思路\n",
    "class Solution:\n",
    "    def longestOnes(self, nums: List[int], k: int) -> int:\n",
    "        N = len(nums)\n",
    "        res = 0 \n",
    "        left, right = 0,0 \n",
    "        zeros = 0 \n",
    "        while right < N:\n",
    "            if nums[right] == 0:\n",
    "                zeros += 1\n",
    "            while zeros > k:\n",
    "                if nums[left] == 0:\n",
    "                    zeros -= 1\n",
    "                left += 1\n",
    "            res = max(res, right-left+1)\n",
    "            right += 1\n",
    "        return res \n"
   ]
  },
  {
   "cell_type": "code",
   "execution_count": null,
   "id": "65c31a0c",
   "metadata": {},
   "outputs": [],
   "source": []
  },
  {
   "cell_type": "markdown",
   "id": "86370a16",
   "metadata": {},
   "source": [
    "### 220. 存在重复元素 III"
   ]
  },
  {
   "cell_type": "code",
   "execution_count": null,
   "id": "f0b3c5f0",
   "metadata": {},
   "outputs": [],
   "source": [
    "# 超时做法\n",
    "class Solution:\n",
    "    def containsNearbyAlmostDuplicate(self, nums: List[int], k: int, t: int) -> bool:\n",
    "        if len(nums) <2:\n",
    "            return False\n",
    "        j,i = 0, 1 \n",
    "        while j < len(nums):\n",
    "            i = j + 1\n",
    "            while i < len(nums):\n",
    "                if  ( abs(nums[i] - nums[j])<=t ) & ( abs(i-j) <= k ):\n",
    "                    return True \n",
    "                else:\n",
    "                    i += 1\n",
    "            j += 1 \n",
    "        return False "
   ]
  },
  {
   "cell_type": "code",
   "execution_count": 5,
   "id": "5dd2a25f",
   "metadata": {},
   "outputs": [
    {
     "data": {
      "text/plain": [
       "-2"
      ]
     },
     "execution_count": 5,
     "metadata": {},
     "output_type": "execute_result"
    }
   ],
   "source": [
    "(-4 + 1) // 3 - 1"
   ]
  },
  {
   "cell_type": "code",
   "execution_count": 7,
   "id": "447a10e5",
   "metadata": {},
   "outputs": [
    {
     "data": {
      "text/plain": [
       "-2"
      ]
     },
     "execution_count": 7,
     "metadata": {},
     "output_type": "execute_result"
    }
   ],
   "source": [
    "-4 // 3"
   ]
  },
  {
   "cell_type": "code",
   "execution_count": null,
   "id": "24fa4091",
   "metadata": {},
   "outputs": [],
   "source": [
    "# 桐排序解法，牛逼的方法！\n",
    "class Solution:\n",
    "    def containsNearbyAlmostDuplicate(self, nums: List[int], k: int, t: int) -> bool:\n",
    "        def getIdx(u):  # 获取一个数所在桐位置的索引\n",
    "            return u//size \n",
    "        Map = {}\n",
    "        size = t + 1\n",
    "        for i, u in enumerate(nums):\n",
    "            idx = getIdx(u)\n",
    "            # 当前数所在的目标桐子里面已经有数了，直接返回\n",
    "            if idx in Map:\n",
    "                return True \n",
    "            l,r = idx-1, idx+1 \n",
    "            if l in Map and abs(u-Map[l])<=t:\n",
    "                return True \n",
    "            if r in Map and abs(u-Map[r])<=t:\n",
    "                return True \n",
    "            # 建立目标值 \n",
    "            Map[idx] = u \n",
    "            # 维护个数为k:个数，桐子的个数\n",
    "            if i>=k:\n",
    "                Map.pop(getIdx(nums[i-k]))\n",
    "\n",
    "        return False "
   ]
  },
  {
   "cell_type": "code",
   "execution_count": null,
   "id": "d2b17a38",
   "metadata": {},
   "outputs": [],
   "source": []
  },
  {
   "cell_type": "code",
   "execution_count": null,
   "id": "6a87d20a",
   "metadata": {},
   "outputs": [],
   "source": [
    "\"\"\"至此，本次作业完成。收货还是蛮多的，看到了很多大佬的解法，原来题目还可以这么做，\n",
    "牛逼就完事了。  虽然做的时候好像理解了。但实际上应该还不会运用。\n",
    "题目可能需要反复做。\"\"\""
   ]
  }
 ],
 "metadata": {
  "kernelspec": {
   "display_name": "Python 3",
   "language": "python",
   "name": "python3"
  },
  "language_info": {
   "codemirror_mode": {
    "name": "ipython",
    "version": 3
   },
   "file_extension": ".py",
   "mimetype": "text/x-python",
   "name": "python",
   "nbconvert_exporter": "python",
   "pygments_lexer": "ipython3",
   "version": "3.8.3"
  }
 },
 "nbformat": 4,
 "nbformat_minor": 5
}
